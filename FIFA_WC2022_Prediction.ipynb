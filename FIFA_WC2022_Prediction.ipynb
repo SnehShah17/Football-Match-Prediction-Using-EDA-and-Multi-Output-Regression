{
 "cells": [
  {
   "cell_type": "markdown",
   "metadata": {
    "collapsed": true,
    "pycharm": {
     "name": "#%% md\n"
    }
   },
   "source": [
    "# FIFA World Cup Qatar 2022 Prediction"
   ]
  },
  {
   "cell_type": "markdown",
   "source": [
    "# Importing the required Libraries"
   ],
   "metadata": {
    "collapsed": false,
    "pycharm": {
     "name": "#%% md\n"
    }
   }
  },
  {
   "cell_type": "code",
   "execution_count": 1,
   "outputs": [],
   "source": [
    "import pandas as pd\n",
    "import numpy as np\n",
    "import seaborn as sns\n",
    "from matplotlib import pyplot as plt\n",
    "from sklearn.preprocessing import LabelEncoder\n",
    "from sklearn.multioutput import MultiOutputRegressor\n",
    "from sklearn.svm import SVC\n",
    "from sklearn.tree import DecisionTreeClassifier\n",
    "from sklearn.ensemble import RandomForestClassifier\n",
    "from sklearn.neighbors import KNeighborsClassifier\n",
    "from sklearn.metrics import classification_report"
   ],
   "metadata": {
    "collapsed": false,
    "pycharm": {
     "name": "#%%\n"
    }
   }
  },
  {
   "cell_type": "markdown",
   "source": [
    "# Importing the dataset"
   ],
   "metadata": {
    "collapsed": false,
    "pycharm": {
     "name": "#%% md\n"
    }
   }
  },
  {
   "cell_type": "code",
   "execution_count": 2,
   "outputs": [
    {
     "data": {
      "text/plain": "         date home_team away_team  home_score  away_score tournament     city  \\\n0  1872-11-30  Scotland   England           0           0   Friendly  Glasgow   \n1  1873-03-08   England  Scotland           4           2   Friendly   London   \n2  1874-03-07  Scotland   England           2           1   Friendly  Glasgow   \n3  1875-03-06   England  Scotland           2           2   Friendly   London   \n4  1876-03-04  Scotland   England           3           0   Friendly  Glasgow   \n5  1876-03-25  Scotland     Wales           4           0   Friendly  Glasgow   \n6  1877-03-03   England  Scotland           1           3   Friendly   London   \n7  1877-03-05     Wales  Scotland           0           2   Friendly  Wrexham   \n8  1878-03-02  Scotland   England           7           2   Friendly  Glasgow   \n9  1878-03-23  Scotland     Wales           9           0   Friendly  Glasgow   \n\n    country  neutral  \n0  Scotland    False  \n1   England    False  \n2  Scotland    False  \n3   England    False  \n4  Scotland    False  \n5  Scotland    False  \n6   England    False  \n7     Wales    False  \n8  Scotland    False  \n9  Scotland    False  ",
      "text/html": "<div>\n<style scoped>\n    .dataframe tbody tr th:only-of-type {\n        vertical-align: middle;\n    }\n\n    .dataframe tbody tr th {\n        vertical-align: top;\n    }\n\n    .dataframe thead th {\n        text-align: right;\n    }\n</style>\n<table border=\"1\" class=\"dataframe\">\n  <thead>\n    <tr style=\"text-align: right;\">\n      <th></th>\n      <th>date</th>\n      <th>home_team</th>\n      <th>away_team</th>\n      <th>home_score</th>\n      <th>away_score</th>\n      <th>tournament</th>\n      <th>city</th>\n      <th>country</th>\n      <th>neutral</th>\n    </tr>\n  </thead>\n  <tbody>\n    <tr>\n      <th>0</th>\n      <td>1872-11-30</td>\n      <td>Scotland</td>\n      <td>England</td>\n      <td>0</td>\n      <td>0</td>\n      <td>Friendly</td>\n      <td>Glasgow</td>\n      <td>Scotland</td>\n      <td>False</td>\n    </tr>\n    <tr>\n      <th>1</th>\n      <td>1873-03-08</td>\n      <td>England</td>\n      <td>Scotland</td>\n      <td>4</td>\n      <td>2</td>\n      <td>Friendly</td>\n      <td>London</td>\n      <td>England</td>\n      <td>False</td>\n    </tr>\n    <tr>\n      <th>2</th>\n      <td>1874-03-07</td>\n      <td>Scotland</td>\n      <td>England</td>\n      <td>2</td>\n      <td>1</td>\n      <td>Friendly</td>\n      <td>Glasgow</td>\n      <td>Scotland</td>\n      <td>False</td>\n    </tr>\n    <tr>\n      <th>3</th>\n      <td>1875-03-06</td>\n      <td>England</td>\n      <td>Scotland</td>\n      <td>2</td>\n      <td>2</td>\n      <td>Friendly</td>\n      <td>London</td>\n      <td>England</td>\n      <td>False</td>\n    </tr>\n    <tr>\n      <th>4</th>\n      <td>1876-03-04</td>\n      <td>Scotland</td>\n      <td>England</td>\n      <td>3</td>\n      <td>0</td>\n      <td>Friendly</td>\n      <td>Glasgow</td>\n      <td>Scotland</td>\n      <td>False</td>\n    </tr>\n    <tr>\n      <th>5</th>\n      <td>1876-03-25</td>\n      <td>Scotland</td>\n      <td>Wales</td>\n      <td>4</td>\n      <td>0</td>\n      <td>Friendly</td>\n      <td>Glasgow</td>\n      <td>Scotland</td>\n      <td>False</td>\n    </tr>\n    <tr>\n      <th>6</th>\n      <td>1877-03-03</td>\n      <td>England</td>\n      <td>Scotland</td>\n      <td>1</td>\n      <td>3</td>\n      <td>Friendly</td>\n      <td>London</td>\n      <td>England</td>\n      <td>False</td>\n    </tr>\n    <tr>\n      <th>7</th>\n      <td>1877-03-05</td>\n      <td>Wales</td>\n      <td>Scotland</td>\n      <td>0</td>\n      <td>2</td>\n      <td>Friendly</td>\n      <td>Wrexham</td>\n      <td>Wales</td>\n      <td>False</td>\n    </tr>\n    <tr>\n      <th>8</th>\n      <td>1878-03-02</td>\n      <td>Scotland</td>\n      <td>England</td>\n      <td>7</td>\n      <td>2</td>\n      <td>Friendly</td>\n      <td>Glasgow</td>\n      <td>Scotland</td>\n      <td>False</td>\n    </tr>\n    <tr>\n      <th>9</th>\n      <td>1878-03-23</td>\n      <td>Scotland</td>\n      <td>Wales</td>\n      <td>9</td>\n      <td>0</td>\n      <td>Friendly</td>\n      <td>Glasgow</td>\n      <td>Scotland</td>\n      <td>False</td>\n    </tr>\n  </tbody>\n</table>\n</div>"
     },
     "execution_count": 2,
     "metadata": {},
     "output_type": "execute_result"
    }
   ],
   "source": [
    "#Reading the dataset\n",
    "df=pd.read_csv(\"results.csv\")\n",
    "df.head(10)"
   ],
   "metadata": {
    "collapsed": false,
    "pycharm": {
     "name": "#%%\n"
    }
   }
  },
  {
   "cell_type": "code",
   "execution_count": 3,
   "outputs": [
    {
     "data": {
      "text/plain": "(43421, 9)"
     },
     "execution_count": 3,
     "metadata": {},
     "output_type": "execute_result"
    }
   ],
   "source": [
    "df.shape"
   ],
   "metadata": {
    "collapsed": false,
    "pycharm": {
     "name": "#%%\n"
    }
   }
  },
  {
   "cell_type": "markdown",
   "source": [
    "## Preprocessing the dataset"
   ],
   "metadata": {
    "collapsed": false,
    "pycharm": {
     "name": "#%% md\n"
    }
   }
  },
  {
   "cell_type": "code",
   "execution_count": 4,
   "outputs": [
    {
     "data": {
      "text/plain": "date          0\nhome_team     0\naway_team     0\nhome_score    0\naway_score    0\ntournament    0\ncity          0\ncountry       0\nneutral       0\ndtype: int64"
     },
     "execution_count": 4,
     "metadata": {},
     "output_type": "execute_result"
    }
   ],
   "source": [
    "df.isnull().sum()"
   ],
   "metadata": {
    "collapsed": false,
    "pycharm": {
     "name": "#%%\n"
    }
   }
  },
  {
   "cell_type": "code",
   "execution_count": 5,
   "outputs": [
    {
     "data": {
      "text/plain": "([<matplotlib.axis.XTick at 0x1ad98d35c90>,\n  <matplotlib.axis.XTick at 0x1ad98d35c60>],\n [Text(1, 0, 'Home Score'), Text(2, 0, 'Away Score')])"
     },
     "execution_count": 5,
     "metadata": {},
     "output_type": "execute_result"
    },
    {
     "data": {
      "text/plain": "<Figure size 720x720 with 1 Axes>",
      "image/png": "[encoded data removed]"
     },
     "metadata": {
      "needs_background": "light"
     },
     "output_type": "display_data"
    }
   ],
   "source": [
    "#finding outliers in the numerical data columns\n",
    "fig = plt.figure(figsize =(10, 10))\n",
    "plt.boxplot([df[\"home_score\"],df[\"away_score\"]])\n",
    "plt.xticks([1,2], [\"Home Score\", \"Away Score\"])"
   ],
   "metadata": {
    "collapsed": false,
    "pycharm": {
     "name": "#%%\n"
    }
   }
  },
  {
   "cell_type": "code",
   "execution_count": 6,
   "outputs": [
    {
     "data": {
      "text/plain": "(43171, 9)"
     },
     "execution_count": 6,
     "metadata": {},
     "output_type": "execute_result"
    }
   ],
   "source": [
    "# Removing the outliers\n",
    "highestHome = 10\n",
    "highestAway = 10\n",
    "df = df[(df[\"home_score\"]<highestHome) & (df[\"away_score\"]<highestAway)]\n",
    "df.shape"
   ],
   "metadata": {
    "collapsed": false,
    "pycharm": {
     "name": "#%%\n"
    }
   }
  },
  {
   "cell_type": "code",
   "execution_count": 7,
   "outputs": [
    {
     "data": {
      "text/plain": "         date home_team away_team  home_score  away_score tournament     city  \\\n0  1872-11-30  Scotland   England           0           0   Friendly  Glasgow   \n1  1873-03-08   England  Scotland           4           2   Friendly   London   \n2  1874-03-07  Scotland   England           2           1   Friendly  Glasgow   \n3  1875-03-06   England  Scotland           2           2   Friendly   London   \n4  1876-03-04  Scotland   England           3           0   Friendly  Glasgow   \n5  1876-03-25  Scotland     Wales           4           0   Friendly  Glasgow   \n6  1877-03-03   England  Scotland           1           3   Friendly   London   \n7  1877-03-05     Wales  Scotland           0           2   Friendly  Wrexham   \n8  1878-03-02  Scotland   England           7           2   Friendly  Glasgow   \n9  1878-03-23  Scotland     Wales           9           0   Friendly  Glasgow   \n\n    country  neutral result  \n0  Scotland    False   Draw  \n1   England    False    Win  \n2  Scotland    False    Win  \n3   England    False   Draw  \n4  Scotland    False    Win  \n5  Scotland    False    Win  \n6   England    False   Lose  \n7     Wales    False   Lose  \n8  Scotland    False    Win  \n9  Scotland    False    Win  ",
      "text/html": "<div>\n<style scoped>\n    .dataframe tbody tr th:only-of-type {\n        vertical-align: middle;\n    }\n\n    .dataframe tbody tr th {\n        vertical-align: top;\n    }\n\n    .dataframe thead th {\n        text-align: right;\n    }\n</style>\n<table border=\"1\" class=\"dataframe\">\n  <thead>\n    <tr style=\"text-align: right;\">\n      <th></th>\n      <th>date</th>\n      <th>home_team</th>\n      <th>away_team</th>\n      <th>home_score</th>\n      <th>away_score</th>\n      <th>tournament</th>\n      <th>city</th>\n      <th>country</th>\n      <th>neutral</th>\n      <th>result</th>\n    </tr>\n  </thead>\n  <tbody>\n    <tr>\n      <th>0</th>\n      <td>1872-11-30</td>\n      <td>Scotland</td>\n      <td>England</td>\n      <td>0</td>\n      <td>0</td>\n      <td>Friendly</td>\n      <td>Glasgow</td>\n      <td>Scotland</td>\n      <td>False</td>\n      <td>Draw</td>\n    </tr>\n    <tr>\n      <th>1</th>\n      <td>1873-03-08</td>\n      <td>England</td>\n      <td>Scotland</td>\n      <td>4</td>\n      <td>2</td>\n      <td>Friendly</td>\n      <td>London</td>\n      <td>England</td>\n      <td>False</td>\n      <td>Win</td>\n    </tr>\n    <tr>\n      <th>2</th>\n      <td>1874-03-07</td>\n      <td>Scotland</td>\n      <td>England</td>\n      <td>2</td>\n      <td>1</td>\n      <td>Friendly</td>\n      <td>Glasgow</td>\n      <td>Scotland</td>\n      <td>False</td>\n      <td>Win</td>\n    </tr>\n    <tr>\n      <th>3</th>\n      <td>1875-03-06</td>\n      <td>England</td>\n      <td>Scotland</td>\n      <td>2</td>\n      <td>2</td>\n      <td>Friendly</td>\n      <td>London</td>\n      <td>England</td>\n      <td>False</td>\n      <td>Draw</td>\n    </tr>\n    <tr>\n      <th>4</th>\n      <td>1876-03-04</td>\n      <td>Scotland</td>\n      <td>England</td>\n      <td>3</td>\n      <td>0</td>\n      <td>Friendly</td>\n      <td>Glasgow</td>\n      <td>Scotland</td>\n      <td>False</td>\n      <td>Win</td>\n    </tr>\n    <tr>\n      <th>5</th>\n      <td>1876-03-25</td>\n      <td>Scotland</td>\n      <td>Wales</td>\n      <td>4</td>\n      <td>0</td>\n      <td>Friendly</td>\n      <td>Glasgow</td>\n      <td>Scotland</td>\n      <td>False</td>\n      <td>Win</td>\n    </tr>\n    <tr>\n      <th>6</th>\n      <td>1877-03-03</td>\n      <td>England</td>\n      <td>Scotland</td>\n      <td>1</td>\n      <td>3</td>\n      <td>Friendly</td>\n      <td>London</td>\n      <td>England</td>\n      <td>False</td>\n      <td>Lose</td>\n    </tr>\n    <tr>\n      <th>7</th>\n      <td>1877-03-05</td>\n      <td>Wales</td>\n      <td>Scotland</td>\n      <td>0</td>\n      <td>2</td>\n      <td>Friendly</td>\n      <td>Wrexham</td>\n      <td>Wales</td>\n      <td>False</td>\n      <td>Lose</td>\n    </tr>\n    <tr>\n      <th>8</th>\n      <td>1878-03-02</td>\n      <td>Scotland</td>\n      <td>England</td>\n      <td>7</td>\n      <td>2</td>\n      <td>Friendly</td>\n      <td>Glasgow</td>\n      <td>Scotland</td>\n      <td>False</td>\n      <td>Win</td>\n    </tr>\n    <tr>\n      <th>9</th>\n      <td>1878-03-23</td>\n      <td>Scotland</td>\n      <td>Wales</td>\n      <td>9</td>\n      <td>0</td>\n      <td>Friendly</td>\n      <td>Glasgow</td>\n      <td>Scotland</td>\n      <td>False</td>\n      <td>Win</td>\n    </tr>\n  </tbody>\n</table>\n</div>"
     },
     "execution_count": 7,
     "metadata": {},
     "output_type": "execute_result"
    }
   ],
   "source": [
    "# Determining if the Home Team won, lost or drew\n",
    "results = ['Win', 'Lose', \"Draw\"]\n",
    "conditions = [df[\"home_score\"] > df['away_score'], df[\"home_score\"] < df['away_score'], df[\"home_score\"] == df['away_score']]\n",
    "df['result'] = np.select(conditions, results)\n",
    "df.head(10)"
   ],
   "metadata": {
    "collapsed": false,
    "pycharm": {
     "name": "#%%\n"
    }
   }
  },
  {
   "cell_type": "code",
   "execution_count": 8,
   "outputs": [
    {
     "name": "stdout",
     "output_type": "stream",
     "text": [
      "Total No. of countries: 267\n",
      "Countries:  Scotland England Wales Ireland United States Uruguay Austria Hungary Argentina Belgium France Netherlands Bohemia Switzerland Germany Italy Chile Norway Sweden Finland Luxembourg Russia Denmark Spain Brazil Paraguay China PR Canada Estonia Guatemala Czechoslovakia Poland Yugoslavia New Zealand Romania Latvia Portugal Northern Ireland Japan Australia Lithuania Turkey Mexico Aruba Soviet Union Haiti Philippines Bulgaria Jamaica Kenya Czech Republic Peru Honduras British Guyana Uganda El Salvador Barbados Irish Free State Trinidad and Tobago Greece Curaçao Egypt Dominica Guadeloupe Palestine Netherlands Guyana French Guiana Cuba Colombia Saint Kitts and Nevis Éire Panama Bohemia and Moravia Slovakia Manchuria Croatia Costa Rica Afghanistan Martinique Southern Rhodesia Iceland Albania Madagascar Northern Rhodesia Tanganyika Iran Ecuador French Somaliland Belgian Congo Mauritius Hong Kong Vietnam Macau Republic of Ireland Ethiopia Suriname Puerto Rico Réunion Israel Sierra Leone Zanzibar Bolivia Gold Coast South Africa Netherlands Antilles New Caledonia Fiji Nigeria Venezuela Ceylon French Polynesia Gambia Singapore Portuguese Guinea German DR New Hebrides Burma Saarland Cambodia India Lebanon Pakistan Malaya South Korea Vietnam Republic Togo Indonesia Sudan Malta Syria Tunisia Nyasaland Ghana Morocco United Arab Republic North Korea Dahomey Guinea-Bissau Mali Federation Mali Vietnam DR Cyprus Iraq Saint Lucia Senegal Libya Gabon Thailand Congo Tanzania Grenada Guinea Central African Republic Cameroon Algeria Kuwait Ivory Coast Lautoka Liberia Malaysia Jordan Zambia Saint Vincent and the Grenadines Bermuda Niger Malawi DR Congo Upper Volta Taiwan Guyana Mauritania Rhodesia Saudi Arabia Eswatini Mozambique Papua New Guinea Bahrain Lesotho Somalia Zaïre Sri Lanka Antigua and Barbuda Faroe Islands Qatar Yemen DPR Burundi Guam Chad Angola Dominican Republic Seychelles São Tomé and Príncipe Botswana Benin Rwanda Bangladesh United Arab Emirates Zimbabwe Oman Equatorial Guinea Cape Verde Liechtenstein Nepal Greenland Vanuatu Western Samoa Belize Brunei Djibouti Burkina Faso Yemen AR Anguilla Nicaragua Cayman Islands Monaco Solomon Islands Sint Maarten Namibia Saint Martin San Marino Slovenia Moldova Ukraine Kazakhstan Tajikistan Uzbekistan Turkmenistan Georgia Kyrgyzstan Armenia Belarus Guernsey Azerbaijan North Macedonia Jersey Montserrat Gibraltar Myanmar Bosnia and Herzegovina Tonga Andorra Yemen United States Virgin Islands Palau Cook Islands British Virgin Islands Eritrea Bahamas Micronesia Maldives Laos Isle of Man Samoa Bhutan Serbia and Montenegro Mayotte Mongolia Northern Cyprus Serbia Montenegro Northern Mariana Islands Comoros Turks and Caicos Islands South Sudan Kosovo East Timor Tahiti\n"
     ]
    }
   ],
   "source": [
    "countries = df.country.unique()\n",
    "print(f\"Total No. of countries: {len(countries)}\")\n",
    "print(\"Countries: \", *countries)"
   ],
   "metadata": {
    "collapsed": false,
    "pycharm": {
     "name": "#%%\n"
    }
   }
  },
  {
   "cell_type": "code",
   "execution_count": 9,
   "outputs": [
    {
     "name": "stdout",
     "output_type": "stream",
     "text": [
      "32\n"
     ]
    }
   ],
   "source": [
    "worldCupTeams = [\"Qatar\", \"Germany\", \"Denmark\", \"Brazil\", \"France\", \"Belgium\", \"Croatia\", \"Spain\", \"Serbia\", \"England\", \"Switzerland\", \"Netherlands\", \"Argentina\", \"Iran\", \"South Korea\", \"Japan\", \"Saudi Arabia\", \"Ecuador\", \"Uruguay\", \"Canada\", \"Ghana\", \"Senegal\", \"Portugal\", \"Poland\", \"Tunisia\", \"Morocco\", \"Cameroon\", \"United States\", \"Mexico\", \"Wales\", \"Australia\", \"Costa Rica\"]\n",
    "print(len(worldCupTeams))"
   ],
   "metadata": {
    "collapsed": false,
    "pycharm": {
     "name": "#%%\n"
    }
   }
  },
  {
   "cell_type": "code",
   "execution_count": 10,
   "outputs": [
    {
     "data": {
      "text/plain": "(22460, 10)"
     },
     "execution_count": 10,
     "metadata": {},
     "output_type": "execute_result"
    }
   ],
   "source": [
    "wc_home = df[df['home_team'].isin(worldCupTeams)]\n",
    "wc_away = df[df['away_team'].isin(worldCupTeams)]\n",
    "wcdf = pd.concat((wc_home, wc_away))\n",
    "wcdf.shape"
   ],
   "metadata": {
    "collapsed": false,
    "pycharm": {
     "name": "#%%\n"
    }
   }
  },
  {
   "cell_type": "code",
   "execution_count": 11,
   "outputs": [
    {
     "data": {
      "text/plain": "          date home_team         away_team  home_score  away_score  \\\n1   1873-03-08   England          Scotland           4           2   \n3   1875-03-06   England          Scotland           2           2   \n6   1877-03-03   England          Scotland           1           3   \n7   1877-03-05     Wales          Scotland           0           2   \n10  1879-01-18   England             Wales           2           1   \n11  1879-04-05   England          Scotland           5           4   \n12  1879-04-07     Wales          Scotland           0           3   \n14  1880-03-15     Wales           England           2           3   \n16  1881-02-26   England             Wales           0           1   \n17  1881-03-12   England          Scotland           1           6   \n18  1881-03-14     Wales          Scotland           1           5   \n20  1882-02-25     Wales  Northern Ireland           7           1   \n22  1882-03-13     Wales           England           5           3   \n24  1883-02-03   England             Wales           5           0   \n25  1883-02-24   England  Northern Ireland           7           0   \n26  1883-03-10   England          Scotland           2           3   \n27  1883-03-12     Wales          Scotland           0           3   \n30  1884-02-09     Wales  Northern Ireland           6           0   \n33  1884-03-17     Wales           England           0           4   \n35  1885-02-28   England  Northern Ireland           4           0   \n\n              tournament        city  country  neutral result  \n1               Friendly      London  England    False    Win  \n3               Friendly      London  England    False   Draw  \n6               Friendly      London  England    False   Lose  \n7               Friendly     Wrexham    Wales    False   Lose  \n10              Friendly      London  England    False    Win  \n11              Friendly      London  England    False    Win  \n12              Friendly     Wrexham    Wales    False   Lose  \n14              Friendly     Wrexham    Wales    False   Lose  \n16              Friendly   Blackburn  England    False   Lose  \n17              Friendly      London  England    False   Lose  \n18              Friendly     Wrexham    Wales    False   Lose  \n20              Friendly     Wrexham    Wales    False    Win  \n22              Friendly     Wrexham    Wales    False    Win  \n24              Friendly      London  England    False    Win  \n25              Friendly   Liverpool  England    False    Win  \n26              Friendly   Sheffield  England    False   Lose  \n27              Friendly     Wrexham    Wales    False   Lose  \n30  British Championship     Wrexham    Wales    False    Win  \n33  British Championship     Wrexham    Wales    False   Lose  \n35  British Championship  Manchester  England    False    Win  ",
      "text/html": "<div>\n<style scoped>\n    .dataframe tbody tr th:only-of-type {\n        vertical-align: middle;\n    }\n\n    .dataframe tbody tr th {\n        vertical-align: top;\n    }\n\n    .dataframe thead th {\n        text-align: right;\n    }\n</style>\n<table border=\"1\" class=\"dataframe\">\n  <thead>\n    <tr style=\"text-align: right;\">\n      <th></th>\n      <th>date</th>\n      <th>home_team</th>\n      <th>away_team</th>\n      <th>home_score</th>\n      <th>away_score</th>\n      <th>tournament</th>\n      <th>city</th>\n      <th>country</th>\n      <th>neutral</th>\n      <th>result</th>\n    </tr>\n  </thead>\n  <tbody>\n    <tr>\n      <th>1</th>\n      <td>1873-03-08</td>\n      <td>England</td>\n      <td>Scotland</td>\n      <td>4</td>\n      <td>2</td>\n      <td>Friendly</td>\n      <td>London</td>\n      <td>England</td>\n      <td>False</td>\n      <td>Win</td>\n    </tr>\n    <tr>\n      <th>3</th>\n      <td>1875-03-06</td>\n      <td>England</td>\n      <td>Scotland</td>\n      <td>2</td>\n      <td>2</td>\n      <td>Friendly</td>\n      <td>London</td>\n      <td>England</td>\n      <td>False</td>\n      <td>Draw</td>\n    </tr>\n    <tr>\n      <th>6</th>\n      <td>1877-03-03</td>\n      <td>England</td>\n      <td>Scotland</td>\n      <td>1</td>\n      <td>3</td>\n      <td>Friendly</td>\n      <td>London</td>\n      <td>England</td>\n      <td>False</td>\n      <td>Lose</td>\n    </tr>\n    <tr>\n      <th>7</th>\n      <td>1877-03-05</td>\n      <td>Wales</td>\n      <td>Scotland</td>\n      <td>0</td>\n      <td>2</td>\n      <td>Friendly</td>\n      <td>Wrexham</td>\n      <td>Wales</td>\n      <td>False</td>\n      <td>Lose</td>\n    </tr>\n    <tr>\n      <th>10</th>\n      <td>1879-01-18</td>\n      <td>England</td>\n      <td>Wales</td>\n      <td>2</td>\n      <td>1</td>\n      <td>Friendly</td>\n      <td>London</td>\n      <td>England</td>\n      <td>False</td>\n      <td>Win</td>\n    </tr>\n    <tr>\n      <th>11</th>\n      <td>1879-04-05</td>\n      <td>England</td>\n      <td>Scotland</td>\n      <td>5</td>\n      <td>4</td>\n      <td>Friendly</td>\n      <td>London</td>\n      <td>England</td>\n      <td>False</td>\n      <td>Win</td>\n    </tr>\n    <tr>\n      <th>12</th>\n      <td>1879-04-07</td>\n      <td>Wales</td>\n      <td>Scotland</td>\n      <td>0</td>\n      <td>3</td>\n      <td>Friendly</td>\n      <td>Wrexham</td>\n      <td>Wales</td>\n      <td>False</td>\n      <td>Lose</td>\n    </tr>\n    <tr>\n      <th>14</th>\n      <td>1880-03-15</td>\n      <td>Wales</td>\n      <td>England</td>\n      <td>2</td>\n      <td>3</td>\n      <td>Friendly</td>\n      <td>Wrexham</td>\n      <td>Wales</td>\n      <td>False</td>\n      <td>Lose</td>\n    </tr>\n    <tr>\n      <th>16</th>\n      <td>1881-02-26</td>\n      <td>England</td>\n      <td>Wales</td>\n      <td>0</td>\n      <td>1</td>\n      <td>Friendly</td>\n      <td>Blackburn</td>\n      <td>England</td>\n      <td>False</td>\n      <td>Lose</td>\n    </tr>\n    <tr>\n      <th>17</th>\n      <td>1881-03-12</td>\n      <td>England</td>\n      <td>Scotland</td>\n      <td>1</td>\n      <td>6</td>\n      <td>Friendly</td>\n      <td>London</td>\n      <td>England</td>\n      <td>False</td>\n      <td>Lose</td>\n    </tr>\n    <tr>\n      <th>18</th>\n      <td>1881-03-14</td>\n      <td>Wales</td>\n      <td>Scotland</td>\n      <td>1</td>\n      <td>5</td>\n      <td>Friendly</td>\n      <td>Wrexham</td>\n      <td>Wales</td>\n      <td>False</td>\n      <td>Lose</td>\n    </tr>\n    <tr>\n      <th>20</th>\n      <td>1882-02-25</td>\n      <td>Wales</td>\n      <td>Northern Ireland</td>\n      <td>7</td>\n      <td>1</td>\n      <td>Friendly</td>\n      <td>Wrexham</td>\n      <td>Wales</td>\n      <td>False</td>\n      <td>Win</td>\n    </tr>\n    <tr>\n      <th>22</th>\n      <td>1882-03-13</td>\n      <td>Wales</td>\n      <td>England</td>\n      <td>5</td>\n      <td>3</td>\n      <td>Friendly</td>\n      <td>Wrexham</td>\n      <td>Wales</td>\n      <td>False</td>\n      <td>Win</td>\n    </tr>\n    <tr>\n      <th>24</th>\n      <td>1883-02-03</td>\n      <td>England</td>\n      <td>Wales</td>\n      <td>5</td>\n      <td>0</td>\n      <td>Friendly</td>\n      <td>London</td>\n      <td>England</td>\n      <td>False</td>\n      <td>Win</td>\n    </tr>\n    <tr>\n      <th>25</th>\n      <td>1883-02-24</td>\n      <td>England</td>\n      <td>Northern Ireland</td>\n      <td>7</td>\n      <td>0</td>\n      <td>Friendly</td>\n      <td>Liverpool</td>\n      <td>England</td>\n      <td>False</td>\n      <td>Win</td>\n    </tr>\n    <tr>\n      <th>26</th>\n      <td>1883-03-10</td>\n      <td>England</td>\n      <td>Scotland</td>\n      <td>2</td>\n      <td>3</td>\n      <td>Friendly</td>\n      <td>Sheffield</td>\n      <td>England</td>\n      <td>False</td>\n      <td>Lose</td>\n    </tr>\n    <tr>\n      <th>27</th>\n      <td>1883-03-12</td>\n      <td>Wales</td>\n      <td>Scotland</td>\n      <td>0</td>\n      <td>3</td>\n      <td>Friendly</td>\n      <td>Wrexham</td>\n      <td>Wales</td>\n      <td>False</td>\n      <td>Lose</td>\n    </tr>\n    <tr>\n      <th>30</th>\n      <td>1884-02-09</td>\n      <td>Wales</td>\n      <td>Northern Ireland</td>\n      <td>6</td>\n      <td>0</td>\n      <td>British Championship</td>\n      <td>Wrexham</td>\n      <td>Wales</td>\n      <td>False</td>\n      <td>Win</td>\n    </tr>\n    <tr>\n      <th>33</th>\n      <td>1884-03-17</td>\n      <td>Wales</td>\n      <td>England</td>\n      <td>0</td>\n      <td>4</td>\n      <td>British Championship</td>\n      <td>Wrexham</td>\n      <td>Wales</td>\n      <td>False</td>\n      <td>Lose</td>\n    </tr>\n    <tr>\n      <th>35</th>\n      <td>1885-02-28</td>\n      <td>England</td>\n      <td>Northern Ireland</td>\n      <td>4</td>\n      <td>0</td>\n      <td>British Championship</td>\n      <td>Manchester</td>\n      <td>England</td>\n      <td>False</td>\n      <td>Win</td>\n    </tr>\n  </tbody>\n</table>\n</div>"
     },
     "execution_count": 11,
     "metadata": {},
     "output_type": "execute_result"
    }
   ],
   "source": [
    "wcdf.head(20)"
   ],
   "metadata": {
    "collapsed": false,
    "pycharm": {
     "name": "#%%\n"
    }
   }
  },
  {
   "cell_type": "code",
   "execution_count": 12,
   "outputs": [
    {
     "data": {
      "text/plain": "(21276, 11)"
     },
     "execution_count": 12,
     "metadata": {},
     "output_type": "execute_result"
    }
   ],
   "source": [
    "# Selecting matches played in the world cup after 1930\n",
    "year = []\n",
    "for i in wcdf['date']:\n",
    "    year.append(int(i[:4]))\n",
    "wcdf['year'] = year\n",
    "wcdf = wcdf[wcdf[\"year\"] > 1929]\n",
    "wcdf.shape"
   ],
   "metadata": {
    "collapsed": false,
    "pycharm": {
     "name": "#%%\n"
    }
   }
  },
  {
   "cell_type": "code",
   "execution_count": 13,
   "outputs": [
    {
     "data": {
      "text/plain": "            date    home_team            away_team  home_score  away_score  \\\n1266  1930-01-01        Spain       Czechoslovakia           1           0   \n1267  1930-01-12     Portugal       Czechoslovakia           1           0   \n1273  1930-02-23     Portugal               France           2           0   \n1274  1930-03-02      Germany                Italy           0           2   \n1276  1930-03-23       France          Switzerland           3           3   \n1277  1930-04-05      England             Scotland           5           2   \n1278  1930-04-06  Netherlands                Italy           1           1   \n1279  1930-04-13       France              Belgium           1           6   \n1280  1930-04-13  Switzerland              Hungary           2           2   \n1285  1930-05-04  Netherlands              Belgium           2           2   \n1286  1930-05-04  Switzerland              Germany           0           5   \n1288  1930-05-10      Germany              England           3           3   \n1289  1930-05-11      Belgium  Republic of Ireland           1           3   \n1290  1930-05-11       France       Czechoslovakia           2           3   \n1293  1930-05-18      Belgium          Netherlands           3           1   \n1294  1930-05-18       France             Scotland           0           2   \n1295  1930-05-25    Argentina              Uruguay           1           1   \n1296  1930-05-25      Belgium               France           1           2   \n1299  1930-05-29        Japan             China PR           3           3   \n1302  1930-06-08      Belgium             Portugal           2           1   \n\n                tournament               city      country  neutral result  \\\n1266              Friendly          Barcelona        Spain    False    Win   \n1267              Friendly             Lisbon     Portugal    False    Win   \n1273              Friendly              Porto     Portugal    False    Win   \n1274              Friendly  Frankfurt am Main      Germany    False   Lose   \n1276              Friendly           Colombes       France    False   Draw   \n1277  British Championship             London      England    False    Win   \n1278              Friendly          Amsterdam  Netherlands    False   Draw   \n1279              Friendly           Colombes       France    False   Lose   \n1280              Friendly              Basel  Switzerland    False   Draw   \n1285              Friendly          Amsterdam  Netherlands    False   Draw   \n1286              Friendly             Zürich  Switzerland    False   Lose   \n1288              Friendly             Berlin      Germany    False   Draw   \n1289              Friendly           Brussels      Belgium    False   Lose   \n1290              Friendly           Colombes       France    False   Lose   \n1293              Friendly            Antwerp      Belgium    False    Win   \n1294              Friendly           Colombes       France    False   Lose   \n1295           Copa Newton       Buenos Aires    Argentina    False   Draw   \n1296              Friendly              Liège      Belgium    False   Lose   \n1299              Friendly              Tokyo        Japan    False   Draw   \n1302              Friendly            Antwerp      Belgium    False    Win   \n\n      year  \n1266  1930  \n1267  1930  \n1273  1930  \n1274  1930  \n1276  1930  \n1277  1930  \n1278  1930  \n1279  1930  \n1280  1930  \n1285  1930  \n1286  1930  \n1288  1930  \n1289  1930  \n1290  1930  \n1293  1930  \n1294  1930  \n1295  1930  \n1296  1930  \n1299  1930  \n1302  1930  ",
      "text/html": "<div>\n<style scoped>\n    .dataframe tbody tr th:only-of-type {\n        vertical-align: middle;\n    }\n\n    .dataframe tbody tr th {\n        vertical-align: top;\n    }\n\n    .dataframe thead th {\n        text-align: right;\n    }\n</style>\n<table border=\"1\" class=\"dataframe\">\n  <thead>\n    <tr style=\"text-align: right;\">\n      <th></th>\n      <th>date</th>\n      <th>home_team</th>\n      <th>away_team</th>\n      <th>home_score</th>\n      <th>away_score</th>\n      <th>tournament</th>\n      <th>city</th>\n      <th>country</th>\n      <th>neutral</th>\n      <th>result</th>\n      <th>year</th>\n    </tr>\n  </thead>\n  <tbody>\n    <tr>\n      <th>1266</th>\n      <td>1930-01-01</td>\n      <td>Spain</td>\n      <td>Czechoslovakia</td>\n      <td>1</td>\n      <td>0</td>\n      <td>Friendly</td>\n      <td>Barcelona</td>\n      <td>Spain</td>\n      <td>False</td>\n      <td>Win</td>\n      <td>1930</td>\n    </tr>\n    <tr>\n      <th>1267</th>\n      <td>1930-01-12</td>\n      <td>Portugal</td>\n      <td>Czechoslovakia</td>\n      <td>1</td>\n      <td>0</td>\n      <td>Friendly</td>\n      <td>Lisbon</td>\n      <td>Portugal</td>\n      <td>False</td>\n      <td>Win</td>\n      <td>1930</td>\n    </tr>\n    <tr>\n      <th>1273</th>\n      <td>1930-02-23</td>\n      <td>Portugal</td>\n      <td>France</td>\n      <td>2</td>\n      <td>0</td>\n      <td>Friendly</td>\n      <td>Porto</td>\n      <td>Portugal</td>\n      <td>False</td>\n      <td>Win</td>\n      <td>1930</td>\n    </tr>\n    <tr>\n      <th>1274</th>\n      <td>1930-03-02</td>\n      <td>Germany</td>\n      <td>Italy</td>\n      <td>0</td>\n      <td>2</td>\n      <td>Friendly</td>\n      <td>Frankfurt am Main</td>\n      <td>Germany</td>\n      <td>False</td>\n      <td>Lose</td>\n      <td>1930</td>\n    </tr>\n    <tr>\n      <th>1276</th>\n      <td>1930-03-23</td>\n      <td>France</td>\n      <td>Switzerland</td>\n      <td>3</td>\n      <td>3</td>\n      <td>Friendly</td>\n      <td>Colombes</td>\n      <td>France</td>\n      <td>False</td>\n      <td>Draw</td>\n      <td>1930</td>\n    </tr>\n    <tr>\n      <th>1277</th>\n      <td>1930-04-05</td>\n      <td>England</td>\n      <td>Scotland</td>\n      <td>5</td>\n      <td>2</td>\n      <td>British Championship</td>\n      <td>London</td>\n      <td>England</td>\n      <td>False</td>\n      <td>Win</td>\n      <td>1930</td>\n    </tr>\n    <tr>\n      <th>1278</th>\n      <td>1930-04-06</td>\n      <td>Netherlands</td>\n      <td>Italy</td>\n      <td>1</td>\n      <td>1</td>\n      <td>Friendly</td>\n      <td>Amsterdam</td>\n      <td>Netherlands</td>\n      <td>False</td>\n      <td>Draw</td>\n      <td>1930</td>\n    </tr>\n    <tr>\n      <th>1279</th>\n      <td>1930-04-13</td>\n      <td>France</td>\n      <td>Belgium</td>\n      <td>1</td>\n      <td>6</td>\n      <td>Friendly</td>\n      <td>Colombes</td>\n      <td>France</td>\n      <td>False</td>\n      <td>Lose</td>\n      <td>1930</td>\n    </tr>\n    <tr>\n      <th>1280</th>\n      <td>1930-04-13</td>\n      <td>Switzerland</td>\n      <td>Hungary</td>\n      <td>2</td>\n      <td>2</td>\n      <td>Friendly</td>\n      <td>Basel</td>\n      <td>Switzerland</td>\n      <td>False</td>\n      <td>Draw</td>\n      <td>1930</td>\n    </tr>\n    <tr>\n      <th>1285</th>\n      <td>1930-05-04</td>\n      <td>Netherlands</td>\n      <td>Belgium</td>\n      <td>2</td>\n      <td>2</td>\n      <td>Friendly</td>\n      <td>Amsterdam</td>\n      <td>Netherlands</td>\n      <td>False</td>\n      <td>Draw</td>\n      <td>1930</td>\n    </tr>\n    <tr>\n      <th>1286</th>\n      <td>1930-05-04</td>\n      <td>Switzerland</td>\n      <td>Germany</td>\n      <td>0</td>\n      <td>5</td>\n      <td>Friendly</td>\n      <td>Zürich</td>\n      <td>Switzerland</td>\n      <td>False</td>\n      <td>Lose</td>\n      <td>1930</td>\n    </tr>\n    <tr>\n      <th>1288</th>\n      <td>1930-05-10</td>\n      <td>Germany</td>\n      <td>England</td>\n      <td>3</td>\n      <td>3</td>\n      <td>Friendly</td>\n      <td>Berlin</td>\n      <td>Germany</td>\n      <td>False</td>\n      <td>Draw</td>\n      <td>1930</td>\n    </tr>\n    <tr>\n      <th>1289</th>\n      <td>1930-05-11</td>\n      <td>Belgium</td>\n      <td>Republic of Ireland</td>\n      <td>1</td>\n      <td>3</td>\n      <td>Friendly</td>\n      <td>Brussels</td>\n      <td>Belgium</td>\n      <td>False</td>\n      <td>Lose</td>\n      <td>1930</td>\n    </tr>\n    <tr>\n      <th>1290</th>\n      <td>1930-05-11</td>\n      <td>France</td>\n      <td>Czechoslovakia</td>\n      <td>2</td>\n      <td>3</td>\n      <td>Friendly</td>\n      <td>Colombes</td>\n      <td>France</td>\n      <td>False</td>\n      <td>Lose</td>\n      <td>1930</td>\n    </tr>\n    <tr>\n      <th>1293</th>\n      <td>1930-05-18</td>\n      <td>Belgium</td>\n      <td>Netherlands</td>\n      <td>3</td>\n      <td>1</td>\n      <td>Friendly</td>\n      <td>Antwerp</td>\n      <td>Belgium</td>\n      <td>False</td>\n      <td>Win</td>\n      <td>1930</td>\n    </tr>\n    <tr>\n      <th>1294</th>\n      <td>1930-05-18</td>\n      <td>France</td>\n      <td>Scotland</td>\n      <td>0</td>\n      <td>2</td>\n      <td>Friendly</td>\n      <td>Colombes</td>\n      <td>France</td>\n      <td>False</td>\n      <td>Lose</td>\n      <td>1930</td>\n    </tr>\n    <tr>\n      <th>1295</th>\n      <td>1930-05-25</td>\n      <td>Argentina</td>\n      <td>Uruguay</td>\n      <td>1</td>\n      <td>1</td>\n      <td>Copa Newton</td>\n      <td>Buenos Aires</td>\n      <td>Argentina</td>\n      <td>False</td>\n      <td>Draw</td>\n      <td>1930</td>\n    </tr>\n    <tr>\n      <th>1296</th>\n      <td>1930-05-25</td>\n      <td>Belgium</td>\n      <td>France</td>\n      <td>1</td>\n      <td>2</td>\n      <td>Friendly</td>\n      <td>Liège</td>\n      <td>Belgium</td>\n      <td>False</td>\n      <td>Lose</td>\n      <td>1930</td>\n    </tr>\n    <tr>\n      <th>1299</th>\n      <td>1930-05-29</td>\n      <td>Japan</td>\n      <td>China PR</td>\n      <td>3</td>\n      <td>3</td>\n      <td>Friendly</td>\n      <td>Tokyo</td>\n      <td>Japan</td>\n      <td>False</td>\n      <td>Draw</td>\n      <td>1930</td>\n    </tr>\n    <tr>\n      <th>1302</th>\n      <td>1930-06-08</td>\n      <td>Belgium</td>\n      <td>Portugal</td>\n      <td>2</td>\n      <td>1</td>\n      <td>Friendly</td>\n      <td>Antwerp</td>\n      <td>Belgium</td>\n      <td>False</td>\n      <td>Win</td>\n      <td>1930</td>\n    </tr>\n  </tbody>\n</table>\n</div>"
     },
     "execution_count": 13,
     "metadata": {},
     "output_type": "execute_result"
    }
   ],
   "source": [
    "wcdf.head(20)"
   ],
   "metadata": {
    "collapsed": false,
    "pycharm": {
     "name": "#%%\n"
    }
   }
  },
  {
   "cell_type": "code",
   "execution_count": 14,
   "outputs": [
    {
     "data": {
      "text/plain": "        home_team       away_team  home_score  away_score      country  year\n1266        Spain  Czechoslovakia           1           0        Spain  1930\n1267     Portugal  Czechoslovakia           1           0     Portugal  1930\n1273     Portugal          France           2           0     Portugal  1930\n1274      Germany           Italy           0           2      Germany  1930\n1276       France     Switzerland           3           3       France  1930\n1277      England        Scotland           5           2      England  1930\n1278  Netherlands           Italy           1           1  Netherlands  1930\n1279       France         Belgium           1           6       France  1930\n1280  Switzerland         Hungary           2           2  Switzerland  1930\n1285  Netherlands         Belgium           2           2  Netherlands  1930",
      "text/html": "<div>\n<style scoped>\n    .dataframe tbody tr th:only-of-type {\n        vertical-align: middle;\n    }\n\n    .dataframe tbody tr th {\n        vertical-align: top;\n    }\n\n    .dataframe thead th {\n        text-align: right;\n    }\n</style>\n<table border=\"1\" class=\"dataframe\">\n  <thead>\n    <tr style=\"text-align: right;\">\n      <th></th>\n      <th>home_team</th>\n      <th>away_team</th>\n      <th>home_score</th>\n      <th>away_score</th>\n      <th>country</th>\n      <th>year</th>\n    </tr>\n  </thead>\n  <tbody>\n    <tr>\n      <th>1266</th>\n      <td>Spain</td>\n      <td>Czechoslovakia</td>\n      <td>1</td>\n      <td>0</td>\n      <td>Spain</td>\n      <td>1930</td>\n    </tr>\n    <tr>\n      <th>1267</th>\n      <td>Portugal</td>\n      <td>Czechoslovakia</td>\n      <td>1</td>\n      <td>0</td>\n      <td>Portugal</td>\n      <td>1930</td>\n    </tr>\n    <tr>\n      <th>1273</th>\n      <td>Portugal</td>\n      <td>France</td>\n      <td>2</td>\n      <td>0</td>\n      <td>Portugal</td>\n      <td>1930</td>\n    </tr>\n    <tr>\n      <th>1274</th>\n      <td>Germany</td>\n      <td>Italy</td>\n      <td>0</td>\n      <td>2</td>\n      <td>Germany</td>\n      <td>1930</td>\n    </tr>\n    <tr>\n      <th>1276</th>\n      <td>France</td>\n      <td>Switzerland</td>\n      <td>3</td>\n      <td>3</td>\n      <td>France</td>\n      <td>1930</td>\n    </tr>\n    <tr>\n      <th>1277</th>\n      <td>England</td>\n      <td>Scotland</td>\n      <td>5</td>\n      <td>2</td>\n      <td>England</td>\n      <td>1930</td>\n    </tr>\n    <tr>\n      <th>1278</th>\n      <td>Netherlands</td>\n      <td>Italy</td>\n      <td>1</td>\n      <td>1</td>\n      <td>Netherlands</td>\n      <td>1930</td>\n    </tr>\n    <tr>\n      <th>1279</th>\n      <td>France</td>\n      <td>Belgium</td>\n      <td>1</td>\n      <td>6</td>\n      <td>France</td>\n      <td>1930</td>\n    </tr>\n    <tr>\n      <th>1280</th>\n      <td>Switzerland</td>\n      <td>Hungary</td>\n      <td>2</td>\n      <td>2</td>\n      <td>Switzerland</td>\n      <td>1930</td>\n    </tr>\n    <tr>\n      <th>1285</th>\n      <td>Netherlands</td>\n      <td>Belgium</td>\n      <td>2</td>\n      <td>2</td>\n      <td>Netherlands</td>\n      <td>1930</td>\n    </tr>\n  </tbody>\n</table>\n</div>"
     },
     "execution_count": 14,
     "metadata": {},
     "output_type": "execute_result"
    }
   ],
   "source": [
    "wcdf = wcdf.drop(columns=['date', 'tournament', 'city', 'neutral', 'result'], axis=1)\n",
    "wcdf.head(10)"
   ],
   "metadata": {
    "collapsed": false,
    "pycharm": {
     "name": "#%%\n"
    }
   }
  },
  {
   "cell_type": "code",
   "execution_count": 15,
   "outputs": [
    {
     "data": {
      "text/plain": "      year    home_team       away_team      country  home_score  away_score\n1266  1930        Spain  Czechoslovakia        Spain           1           0\n1267  1930     Portugal  Czechoslovakia     Portugal           1           0\n1273  1930     Portugal          France     Portugal           2           0\n1274  1930      Germany           Italy      Germany           0           2\n1276  1930       France     Switzerland       France           3           3\n1277  1930      England        Scotland      England           5           2\n1278  1930  Netherlands           Italy  Netherlands           1           1\n1279  1930       France         Belgium       France           1           6\n1280  1930  Switzerland         Hungary  Switzerland           2           2\n1285  1930  Netherlands         Belgium  Netherlands           2           2",
      "text/html": "<div>\n<style scoped>\n    .dataframe tbody tr th:only-of-type {\n        vertical-align: middle;\n    }\n\n    .dataframe tbody tr th {\n        vertical-align: top;\n    }\n\n    .dataframe thead th {\n        text-align: right;\n    }\n</style>\n<table border=\"1\" class=\"dataframe\">\n  <thead>\n    <tr style=\"text-align: right;\">\n      <th></th>\n      <th>year</th>\n      <th>home_team</th>\n      <th>away_team</th>\n      <th>country</th>\n      <th>home_score</th>\n      <th>away_score</th>\n    </tr>\n  </thead>\n  <tbody>\n    <tr>\n      <th>1266</th>\n      <td>1930</td>\n      <td>Spain</td>\n      <td>Czechoslovakia</td>\n      <td>Spain</td>\n      <td>1</td>\n      <td>0</td>\n    </tr>\n    <tr>\n      <th>1267</th>\n      <td>1930</td>\n      <td>Portugal</td>\n      <td>Czechoslovakia</td>\n      <td>Portugal</td>\n      <td>1</td>\n      <td>0</td>\n    </tr>\n    <tr>\n      <th>1273</th>\n      <td>1930</td>\n      <td>Portugal</td>\n      <td>France</td>\n      <td>Portugal</td>\n      <td>2</td>\n      <td>0</td>\n    </tr>\n    <tr>\n      <th>1274</th>\n      <td>1930</td>\n      <td>Germany</td>\n      <td>Italy</td>\n      <td>Germany</td>\n      <td>0</td>\n      <td>2</td>\n    </tr>\n    <tr>\n      <th>1276</th>\n      <td>1930</td>\n      <td>France</td>\n      <td>Switzerland</td>\n      <td>France</td>\n      <td>3</td>\n      <td>3</td>\n    </tr>\n    <tr>\n      <th>1277</th>\n      <td>1930</td>\n      <td>England</td>\n      <td>Scotland</td>\n      <td>England</td>\n      <td>5</td>\n      <td>2</td>\n    </tr>\n    <tr>\n      <th>1278</th>\n      <td>1930</td>\n      <td>Netherlands</td>\n      <td>Italy</td>\n      <td>Netherlands</td>\n      <td>1</td>\n      <td>1</td>\n    </tr>\n    <tr>\n      <th>1279</th>\n      <td>1930</td>\n      <td>France</td>\n      <td>Belgium</td>\n      <td>France</td>\n      <td>1</td>\n      <td>6</td>\n    </tr>\n    <tr>\n      <th>1280</th>\n      <td>1930</td>\n      <td>Switzerland</td>\n      <td>Hungary</td>\n      <td>Switzerland</td>\n      <td>2</td>\n      <td>2</td>\n    </tr>\n    <tr>\n      <th>1285</th>\n      <td>1930</td>\n      <td>Netherlands</td>\n      <td>Belgium</td>\n      <td>Netherlands</td>\n      <td>2</td>\n      <td>2</td>\n    </tr>\n  </tbody>\n</table>\n</div>"
     },
     "execution_count": 15,
     "metadata": {},
     "output_type": "execute_result"
    }
   ],
   "source": [
    "wcdf = wcdf.loc[:, [\"year\", 'home_team', 'away_team', 'country', 'home_score', 'away_score']]\n",
    "wcdf.head(10)"
   ],
   "metadata": {
    "collapsed": false,
    "pycharm": {
     "name": "#%%\n"
    }
   }
  },
  {
   "cell_type": "code",
   "execution_count": 16,
   "outputs": [
    {
     "data": {
      "text/plain": "array([[1930, 'Spain', 'Czechoslovakia', 'Spain'],\n       [1930, 'Portugal', 'Czechoslovakia', 'Portugal'],\n       [1930, 'Portugal', 'France', 'Portugal'],\n       ...,\n       [2022, 'Netherlands', 'Germany', 'Netherlands'],\n       [2022, 'Costa Rica', 'United States', 'Costa Rica'],\n       [2022, 'Panama', 'Canada', 'Panama']], dtype=object)"
     },
     "execution_count": 16,
     "metadata": {},
     "output_type": "execute_result"
    }
   ],
   "source": [
    "X = wcdf.iloc[:, :-2].values\n",
    "Y = wcdf.iloc[:, -2:].values\n",
    "X"
   ],
   "metadata": {
    "collapsed": false,
    "pycharm": {
     "name": "#%%\n"
    }
   }
  },
  {
   "cell_type": "code",
   "execution_count": 17,
   "outputs": [
    {
     "data": {
      "text/plain": "array([[1, 0],\n       [1, 0],\n       [2, 0],\n       ...,\n       [1, 1],\n       [2, 0],\n       [1, 0]], dtype=int64)"
     },
     "execution_count": 17,
     "metadata": {},
     "output_type": "execute_result"
    }
   ],
   "source": [
    "Y"
   ],
   "metadata": {
    "collapsed": false,
    "pycharm": {
     "name": "#%%\n"
    }
   }
  },
  {
   "cell_type": "code",
   "execution_count": 18,
   "outputs": [
    {
     "data": {
      "text/plain": "array([[1930, 178, 49, 180],\n       [1930, 153, 49, 152],\n       [1930, 153, 66, 152],\n       ...,\n       [2022, 134, 72, 133],\n       [2022, 45, 198, 41],\n       [2022, 148, 32, 147]], dtype=object)"
     },
     "execution_count": 18,
     "metadata": {},
     "output_type": "execute_result"
    }
   ],
   "source": [
    "le = LabelEncoder()\n",
    "for i in range(1, 4):\n",
    "    X[:, i] = le.fit_transform(X[:, i])\n",
    "X"
   ],
   "metadata": {
    "collapsed": false,
    "pycharm": {
     "name": "#%%\n"
    }
   }
  },
  {
   "cell_type": "code",
   "execution_count": 19,
   "outputs": [
    {
     "data": {
      "text/plain": "<AxesSubplot:>"
     },
     "execution_count": 19,
     "metadata": {},
     "output_type": "execute_result"
    },
    {
     "data": {
      "text/plain": "<Figure size 432x288 with 2 Axes>",
      "image/png": "[encoded data removed]"
     },
     "metadata": {
      "needs_background": "light"
     },
     "output_type": "display_data"
    }
   ],
   "source": [
    "sns.heatmap(wcdf.corr())"
   ],
   "metadata": {
    "collapsed": false,
    "pycharm": {
     "name": "#%%\n"
    }
   }
  },
  {
   "cell_type": "markdown",
   "source": [
    "## Exploratory Data Analysis"
   ],
   "metadata": {
    "collapsed": false,
    "pycharm": {
     "name": "#%% md\n"
    }
   }
  },
  {
   "cell_type": "code",
   "execution_count": 22,
   "outputs": [
    {
     "data": {
      "text/plain": "<Figure size 1008x432 with 1 Axes>",
      "image/png": "[encoded data removed]"
     },
     "metadata": {
      "needs_background": "light"
     },
     "output_type": "display_data"
    }
   ],
   "source": [
    "# Types of matches distribution\n",
    "rank_bound = 10\n",
    "ax = df.tournament.value_counts()[:rank_bound].sort_values()\n",
    "value = ax.values\n",
    "label = ax.index\n",
    "\n",
    "plt.figure(figsize=(14,6))\n",
    "plt.barh(y=label, width=value, edgecolor=\"k\")\n",
    "for i in range(rank_bound):\n",
    "    plt.text(x=50,y=i-0.1,s=value[i],color=\"w\",fontsize=12)\n",
    "plt.show()"
   ],
   "metadata": {
    "collapsed": false,
    "pycharm": {
     "name": "#%%\n"
    }
   }
  },
  {
   "cell_type": "code",
   "execution_count": 23,
   "outputs": [
    {
     "data": {
      "text/plain": "<Figure size 1008x432 with 1 Axes>",
      "image/png": "[encoded data removed]"
     },
     "metadata": {
      "needs_background": "light"
     },
     "output_type": "display_data"
    }
   ],
   "source": [
    "# Teams with most matches\n",
    "rank_bound = 10\n",
    "ax = df.country.value_counts()[:rank_bound].sort_values()\n",
    "value = ax.values\n",
    "label = ax.index\n",
    "\n",
    "plt.figure(figsize=(14,6))\n",
    "plt.barh(y=label, width=value, edgecolor=\"k\")\n",
    "for i in range(rank_bound):\n",
    "    plt.text(x=10,y=i-0.1,s=value[i],color=\"w\",fontsize=12)\n",
    "plt.show()"
   ],
   "metadata": {
    "collapsed": false,
    "pycharm": {
     "name": "#%%\n"
    }
   }
  },
  {
   "cell_type": "code",
   "execution_count": 26,
   "outputs": [
    {
     "data": {
      "text/plain": "<pandas.io.formats.style.Styler at 0x1ad998530a0>",
      "text/html": "<style type=\"text/css\">\n#T_52718_row0_col0, #T_52718_row0_col1, #T_52718_row0_col2, #T_52718_row0_col3 {\n  width: 10em;\n  background: linear-gradient(90deg, brown 100.0%, transparent 100.0%);\n}\n#T_52718_row1_col0 {\n  width: 10em;\n  background: linear-gradient(90deg, brown 29.1%, transparent 29.1%);\n}\n#T_52718_row1_col1 {\n  width: 10em;\n  background: linear-gradient(90deg, brown 28.7%, transparent 28.7%);\n}\n#T_52718_row1_col2 {\n  width: 10em;\n  background: linear-gradient(90deg, brown 30.9%, transparent 30.9%);\n}\n#T_52718_row1_col3 {\n  width: 10em;\n  background: linear-gradient(90deg, brown 29.8%, transparent 29.8%);\n}\n#T_52718_row2_col0 {\n  width: 10em;\n  background: linear-gradient(90deg, brown 9.0%, transparent 9.0%);\n}\n#T_52718_row2_col1 {\n  width: 10em;\n  background: linear-gradient(90deg, brown 11.1%, transparent 11.1%);\n}\n#T_52718_row2_col2 {\n  width: 10em;\n  background: linear-gradient(90deg, brown 9.8%, transparent 9.8%);\n}\n#T_52718_row2_col3 {\n  width: 10em;\n  background: linear-gradient(90deg, brown 10.0%, transparent 10.0%);\n}\n#T_52718_row3_col0, #T_52718_row3_col2 {\n  width: 10em;\n  background: linear-gradient(90deg, brown 7.4%, transparent 7.4%);\n}\n#T_52718_row3_col1 {\n  width: 10em;\n  background: linear-gradient(90deg, brown 4.8%, transparent 4.8%);\n}\n#T_52718_row3_col3 {\n  width: 10em;\n  background: linear-gradient(90deg, brown 6.6%, transparent 6.6%);\n}\n#T_52718_row4_col0, #T_52718_row4_col3 {\n  width: 10em;\n  background: linear-gradient(90deg, brown 3.5%, transparent 3.5%);\n}\n#T_52718_row4_col1 {\n  width: 10em;\n  background: linear-gradient(90deg, brown 3.9%, transparent 3.9%);\n}\n#T_52718_row4_col2, #T_52718_row5_col0, #T_52718_row5_col3 {\n  width: 10em;\n  background: linear-gradient(90deg, brown 3.2%, transparent 3.2%);\n}\n#T_52718_row5_col1 {\n  width: 10em;\n  background: linear-gradient(90deg, brown 3.1%, transparent 3.1%);\n}\n#T_52718_row5_col2, #T_52718_row7_col2 {\n  width: 10em;\n  background: linear-gradient(90deg, brown 3.3%, transparent 3.3%);\n}\n#T_52718_row6_col0 {\n  width: 10em;\n  background: linear-gradient(90deg, brown 3.7%, transparent 3.7%);\n}\n#T_52718_row6_col1 {\n  width: 10em;\n  background: linear-gradient(90deg, brown 2.7%, transparent 2.7%);\n}\n#T_52718_row6_col2, #T_52718_row8_col0 {\n  width: 10em;\n  background: linear-gradient(90deg, brown 2.6%, transparent 2.6%);\n}\n#T_52718_row6_col3 {\n  width: 10em;\n  background: linear-gradient(90deg, brown 2.9%, transparent 2.9%);\n}\n#T_52718_row7_col0, #T_52718_row8_col2, #T_52718_row9_col0, #T_52718_row9_col2 {\n  width: 10em;\n  background: linear-gradient(90deg, brown 2.2%, transparent 2.2%);\n}\n#T_52718_row7_col1, #T_52718_row8_col3 {\n  width: 10em;\n  background: linear-gradient(90deg, brown 2.4%, transparent 2.4%);\n}\n#T_52718_row7_col3 {\n  width: 10em;\n  background: linear-gradient(90deg, brown 2.8%, transparent 2.8%);\n}\n#T_52718_row8_col1, #T_52718_row9_col1 {\n  width: 10em;\n  background: linear-gradient(90deg, brown 2.5%, transparent 2.5%);\n}\n#T_52718_row9_col3 {\n  width: 10em;\n  background: linear-gradient(90deg, brown 2.3%, transparent 2.3%);\n}\n</style>\n<table id=\"T_52718\">\n  <thead>\n    <tr>\n      <th class=\"index_name level0\" >result</th>\n      <th id=\"T_52718_level0_col0\" class=\"col_heading level0 col0\" >Draw</th>\n      <th id=\"T_52718_level0_col1\" class=\"col_heading level0 col1\" >Lose</th>\n      <th id=\"T_52718_level0_col2\" class=\"col_heading level0 col2\" >Win</th>\n      <th id=\"T_52718_level0_col3\" class=\"col_heading level0 col3\" >All</th>\n    </tr>\n    <tr>\n      <th class=\"index_name level0\" >tournament</th>\n      <th class=\"blank col0\" >&nbsp;</th>\n      <th class=\"blank col1\" >&nbsp;</th>\n      <th class=\"blank col2\" >&nbsp;</th>\n      <th class=\"blank col3\" >&nbsp;</th>\n    </tr>\n  </thead>\n  <tbody>\n    <tr>\n      <th id=\"T_52718_level0_row0\" class=\"row_heading level0 row0\" >All</th>\n      <td id=\"T_52718_row0_col0\" class=\"data row0 col0\" >5655</td>\n      <td id=\"T_52718_row0_col1\" class=\"data row0 col1\" >7402</td>\n      <td id=\"T_52718_row0_col2\" class=\"data row0 col2\" >12813</td>\n      <td id=\"T_52718_row0_col3\" class=\"data row0 col3\" >25870</td>\n    </tr>\n    <tr>\n      <th id=\"T_52718_level0_row1\" class=\"row_heading level0 row1\" >FIFA World Cup qualification</th>\n      <td id=\"T_52718_row1_col0\" class=\"data row1 col0\" >1643</td>\n      <td id=\"T_52718_row1_col1\" class=\"data row1 col1\" >2123</td>\n      <td id=\"T_52718_row1_col2\" class=\"data row1 col2\" >3955</td>\n      <td id=\"T_52718_row1_col3\" class=\"data row1 col3\" >7721</td>\n    </tr>\n    <tr>\n      <th id=\"T_52718_level0_row2\" class=\"row_heading level0 row2\" >UEFA Euro qualification</th>\n      <td id=\"T_52718_row2_col0\" class=\"data row2 col0\" >510</td>\n      <td id=\"T_52718_row2_col1\" class=\"data row2 col1\" >818</td>\n      <td id=\"T_52718_row2_col2\" class=\"data row2 col2\" >1262</td>\n      <td id=\"T_52718_row2_col3\" class=\"data row2 col3\" >2590</td>\n    </tr>\n    <tr>\n      <th id=\"T_52718_level0_row3\" class=\"row_heading level0 row3\" >African Cup of Nations qualification</th>\n      <td id=\"T_52718_row3_col0\" class=\"data row3 col0\" >418</td>\n      <td id=\"T_52718_row3_col1\" class=\"data row3 col1\" >353</td>\n      <td id=\"T_52718_row3_col2\" class=\"data row3 col2\" >948</td>\n      <td id=\"T_52718_row3_col3\" class=\"data row3 col3\" >1719</td>\n    </tr>\n    <tr>\n      <th id=\"T_52718_level0_row4\" class=\"row_heading level0 row4\" >FIFA World Cup</th>\n      <td id=\"T_52718_row4_col0\" class=\"data row4 col0\" >199</td>\n      <td id=\"T_52718_row4_col1\" class=\"data row4 col1\" >290</td>\n      <td id=\"T_52718_row4_col2\" class=\"data row4 col2\" >410</td>\n      <td id=\"T_52718_row4_col3\" class=\"data row4 col3\" >899</td>\n    </tr>\n    <tr>\n      <th id=\"T_52718_level0_row5\" class=\"row_heading level0 row5\" >Copa América</th>\n      <td id=\"T_52718_row5_col0\" class=\"data row5 col0\" >181</td>\n      <td id=\"T_52718_row5_col1\" class=\"data row5 col1\" >230</td>\n      <td id=\"T_52718_row5_col2\" class=\"data row5 col2\" >427</td>\n      <td id=\"T_52718_row5_col3\" class=\"data row5 col3\" >838</td>\n    </tr>\n    <tr>\n      <th id=\"T_52718_level0_row6\" class=\"row_heading level0 row6\" >African Cup of Nations</th>\n      <td id=\"T_52718_row6_col0\" class=\"data row6 col0\" >209</td>\n      <td id=\"T_52718_row6_col1\" class=\"data row6 col1\" >200</td>\n      <td id=\"T_52718_row6_col2\" class=\"data row6 col2\" >333</td>\n      <td id=\"T_52718_row6_col3\" class=\"data row6 col3\" >742</td>\n    </tr>\n    <tr>\n      <th id=\"T_52718_level0_row7\" class=\"row_heading level0 row7\" >AFC Asian Cup qualification</th>\n      <td id=\"T_52718_row7_col0\" class=\"data row7 col0\" >123</td>\n      <td id=\"T_52718_row7_col1\" class=\"data row7 col1\" >176</td>\n      <td id=\"T_52718_row7_col2\" class=\"data row7 col2\" >418</td>\n      <td id=\"T_52718_row7_col3\" class=\"data row7 col3\" >717</td>\n    </tr>\n    <tr>\n      <th id=\"T_52718_level0_row8\" class=\"row_heading level0 row8\" >CECAFA Cup</th>\n      <td id=\"T_52718_row8_col0\" class=\"data row8 col0\" >147</td>\n      <td id=\"T_52718_row8_col1\" class=\"data row8 col1\" >185</td>\n      <td id=\"T_52718_row8_col2\" class=\"data row8 col2\" >287</td>\n      <td id=\"T_52718_row8_col3\" class=\"data row8 col3\" >619</td>\n    </tr>\n    <tr>\n      <th id=\"T_52718_level0_row9\" class=\"row_heading level0 row9\" >Merdeka Tournament</th>\n      <td id=\"T_52718_row9_col0\" class=\"data row9 col0\" >127</td>\n      <td id=\"T_52718_row9_col1\" class=\"data row9 col1\" >183</td>\n      <td id=\"T_52718_row9_col2\" class=\"data row9 col2\" >284</td>\n      <td id=\"T_52718_row9_col3\" class=\"data row9 col3\" >594</td>\n    </tr>\n  </tbody>\n</table>\n"
     },
     "execution_count": 26,
     "metadata": {},
     "output_type": "execute_result"
    }
   ],
   "source": [
    "# Does the home team have an advantage\n",
    "data_home=df.loc[df[\"home_team\"]==df[\"country\"] ]\n",
    "data_home=df.loc[df[\"tournament\"] != \"Friendly\"]\n",
    "data_home.head(5)\n",
    "\n",
    "tournament_df=pd.crosstab(data_home[\"tournament\"], data_home[\"result\"],margins=True)\n",
    "tournament_df=tournament_df.sort_values(\"All\",ascending=False).head(10)\n",
    "tournament_df.style.bar(color=\"brown\",subset=[\"Draw\",\"Lose\",\"Win\",\"All\"])"
   ],
   "metadata": {
    "collapsed": false,
    "pycharm": {
     "name": "#%%\n"
    }
   }
  },
  {
   "cell_type": "code",
   "execution_count": 27,
   "outputs": [
    {
     "data": {
      "text/plain": "Text(0.5, 1.0, 'Home Team Winning Status')"
     },
     "execution_count": 27,
     "metadata": {},
     "output_type": "execute_result"
    },
    {
     "data": {
      "text/plain": "<Figure size 360x360 with 1 Axes>",
      "image/png": "[encoded data removed]"
     },
     "metadata": {
      "needs_background": "light"
     },
     "output_type": "display_data"
    }
   ],
   "source": [
    "#Home team results\n",
    "sns.displot(data_home, x=\"result\")\n",
    "plt.title(\"Home Team Winning Status\")"
   ],
   "metadata": {
    "collapsed": false,
    "pycharm": {
     "name": "#%%\n"
    }
   }
  },
  {
   "cell_type": "code",
   "execution_count": 28,
   "outputs": [
    {
     "data": {
      "text/plain": "<pandas.io.formats.style.Styler at 0x1ad99e32170>",
      "text/html": "<style type=\"text/css\">\n#T_20c9a_row0_col4 {\n  width: 10em;\n  background: linear-gradient(90deg, orange 100.0%, transparent 100.0%);\n}\n#T_20c9a_row1_col4 {\n  width: 10em;\n  background: linear-gradient(90deg, orange 94.9%, transparent 94.9%);\n}\n#T_20c9a_row2_col4 {\n  width: 10em;\n  background: linear-gradient(90deg, orange 91.9%, transparent 91.9%);\n}\n#T_20c9a_row3_col4 {\n  width: 10em;\n  background: linear-gradient(90deg, orange 89.2%, transparent 89.2%);\n}\n#T_20c9a_row4_col4, #T_20c9a_row5_col4 {\n  width: 10em;\n  background: linear-gradient(90deg, orange 88.9%, transparent 88.9%);\n}\n#T_20c9a_row6_col4, #T_20c9a_row7_col4 {\n  width: 10em;\n  background: linear-gradient(90deg, orange 87.3%, transparent 87.3%);\n}\n#T_20c9a_row8_col4 {\n  width: 10em;\n  background: linear-gradient(90deg, orange 87.1%, transparent 87.1%);\n}\n#T_20c9a_row9_col4 {\n  width: 10em;\n  background: linear-gradient(90deg, orange 87.0%, transparent 87.0%);\n}\n#T_20c9a_row10_col4 {\n  width: 10em;\n  background: linear-gradient(90deg, orange 86.2%, transparent 86.2%);\n}\n#T_20c9a_row11_col4, #T_20c9a_row12_col4 {\n  width: 10em;\n  background: linear-gradient(90deg, orange 85.3%, transparent 85.3%);\n}\n#T_20c9a_row13_col4 {\n  width: 10em;\n  background: linear-gradient(90deg, orange 84.7%, transparent 84.7%);\n}\n#T_20c9a_row14_col4 {\n  width: 10em;\n  background: linear-gradient(90deg, orange 83.3%, transparent 83.3%);\n}\n#T_20c9a_row15_col4, #T_20c9a_row16_col4 {\n  width: 10em;\n  background: linear-gradient(90deg, orange 83.2%, transparent 83.2%);\n}\n#T_20c9a_row17_col4 {\n  width: 10em;\n  background: linear-gradient(90deg, orange 82.1%, transparent 82.1%);\n}\n#T_20c9a_row18_col4 {\n  width: 10em;\n  background: linear-gradient(90deg, orange 81.8%, transparent 81.8%);\n}\n#T_20c9a_row19_col4 {\n  width: 10em;\n  background: linear-gradient(90deg, orange 81.0%, transparent 81.0%);\n}\n</style>\n<table id=\"T_20c9a\">\n  <thead>\n    <tr>\n      <th class=\"index_name level0\" >result</th>\n      <th id=\"T_20c9a_level0_col0\" class=\"col_heading level0 col0\" >Draw</th>\n      <th id=\"T_20c9a_level0_col1\" class=\"col_heading level0 col1\" >Lose</th>\n      <th id=\"T_20c9a_level0_col2\" class=\"col_heading level0 col2\" >Win</th>\n      <th id=\"T_20c9a_level0_col3\" class=\"col_heading level0 col3\" >Total</th>\n      <th id=\"T_20c9a_level0_col4\" class=\"col_heading level0 col4\" >team_win_probability</th>\n    </tr>\n    <tr>\n      <th class=\"index_name level0\" >home_team</th>\n      <th class=\"blank col0\" >&nbsp;</th>\n      <th class=\"blank col1\" >&nbsp;</th>\n      <th class=\"blank col2\" >&nbsp;</th>\n      <th class=\"blank col3\" >&nbsp;</th>\n      <th class=\"blank col4\" >&nbsp;</th>\n    </tr>\n  </thead>\n  <tbody>\n    <tr>\n      <th id=\"T_20c9a_level0_row0\" class=\"row_heading level0 row0\" >Brazil</th>\n      <td id=\"T_20c9a_row0_col0\" class=\"data row0 col0\" >110</td>\n      <td id=\"T_20c9a_row0_col1\" class=\"data row0 col1\" >57</td>\n      <td id=\"T_20c9a_row0_col2\" class=\"data row0 col2\" >420</td>\n      <td id=\"T_20c9a_row0_col3\" class=\"data row0 col3\" >587</td>\n      <td id=\"T_20c9a_row0_col4\" class=\"data row0 col4\" >0.715503</td>\n    </tr>\n    <tr>\n      <th id=\"T_20c9a_level0_row1\" class=\"row_heading level0 row1\" >Spain</th>\n      <td id=\"T_20c9a_row1_col0\" class=\"data row1 col0\" >69</td>\n      <td id=\"T_20c9a_row1_col1\" class=\"data row1 col1\" >50</td>\n      <td id=\"T_20c9a_row1_col2\" class=\"data row1 col2\" >252</td>\n      <td id=\"T_20c9a_row1_col3\" class=\"data row1 col3\" >371</td>\n      <td id=\"T_20c9a_row1_col4\" class=\"data row1 col4\" >0.679245</td>\n    </tr>\n    <tr>\n      <th id=\"T_20c9a_level0_row2\" class=\"row_heading level0 row2\" >Argentina</th>\n      <td id=\"T_20c9a_row2_col0\" class=\"data row2 col0\" >124</td>\n      <td id=\"T_20c9a_row2_col1\" class=\"data row2 col1\" >68</td>\n      <td id=\"T_20c9a_row2_col2\" class=\"data row2 col2\" >369</td>\n      <td id=\"T_20c9a_row2_col3\" class=\"data row2 col3\" >561</td>\n      <td id=\"T_20c9a_row2_col4\" class=\"data row2 col4\" >0.657754</td>\n    </tr>\n    <tr>\n      <th id=\"T_20c9a_level0_row3\" class=\"row_heading level0 row3\" >Ivory Coast</th>\n      <td id=\"T_20c9a_row3_col0\" class=\"data row3 col0\" >67</td>\n      <td id=\"T_20c9a_row3_col1\" class=\"data row3 col1\" >35</td>\n      <td id=\"T_20c9a_row3_col2\" class=\"data row3 col2\" >180</td>\n      <td id=\"T_20c9a_row3_col3\" class=\"data row3 col3\" >282</td>\n      <td id=\"T_20c9a_row3_col4\" class=\"data row3 col4\" >0.638298</td>\n    </tr>\n    <tr>\n      <th id=\"T_20c9a_level0_row4\" class=\"row_heading level0 row4\" >Iran</th>\n      <td id=\"T_20c9a_row4_col0\" class=\"data row4 col0\" >62</td>\n      <td id=\"T_20c9a_row4_col1\" class=\"data row4 col1\" >42</td>\n      <td id=\"T_20c9a_row4_col2\" class=\"data row4 col2\" >182</td>\n      <td id=\"T_20c9a_row4_col3\" class=\"data row4 col3\" >286</td>\n      <td id=\"T_20c9a_row4_col4\" class=\"data row4 col4\" >0.636364</td>\n    </tr>\n    <tr>\n      <th id=\"T_20c9a_level0_row5\" class=\"row_heading level0 row5\" >Egypt</th>\n      <td id=\"T_20c9a_row5_col0\" class=\"data row5 col0\" >68</td>\n      <td id=\"T_20c9a_row5_col1\" class=\"data row5 col1\" >74</td>\n      <td id=\"T_20c9a_row5_col2\" class=\"data row5 col2\" >248</td>\n      <td id=\"T_20c9a_row5_col3\" class=\"data row5 col3\" >390</td>\n      <td id=\"T_20c9a_row5_col4\" class=\"data row5 col4\" >0.635897</td>\n    </tr>\n    <tr>\n      <th id=\"T_20c9a_level0_row6\" class=\"row_heading level0 row6\" >England</th>\n      <td id=\"T_20c9a_row6_col0\" class=\"data row6 col0\" >112</td>\n      <td id=\"T_20c9a_row6_col1\" class=\"data row6 col1\" >82</td>\n      <td id=\"T_20c9a_row6_col2\" class=\"data row6 col2\" >323</td>\n      <td id=\"T_20c9a_row6_col3\" class=\"data row6 col3\" >517</td>\n      <td id=\"T_20c9a_row6_col4\" class=\"data row6 col4\" >0.624758</td>\n    </tr>\n    <tr>\n      <th id=\"T_20c9a_level0_row7\" class=\"row_heading level0 row7\" >Italy</th>\n      <td id=\"T_20c9a_row7_col0\" class=\"data row7 col0\" >122</td>\n      <td id=\"T_20c9a_row7_col1\" class=\"data row7 col1\" >51</td>\n      <td id=\"T_20c9a_row7_col2\" class=\"data row7 col2\" >288</td>\n      <td id=\"T_20c9a_row7_col3\" class=\"data row7 col3\" >461</td>\n      <td id=\"T_20c9a_row7_col4\" class=\"data row7 col4\" >0.624729</td>\n    </tr>\n    <tr>\n      <th id=\"T_20c9a_level0_row8\" class=\"row_heading level0 row8\" >Germany</th>\n      <td id=\"T_20c9a_row8_col0\" class=\"data row8 col0\" >111</td>\n      <td id=\"T_20c9a_row8_col1\" class=\"data row8 col1\" >85</td>\n      <td id=\"T_20c9a_row8_col2\" class=\"data row8 col2\" >324</td>\n      <td id=\"T_20c9a_row8_col3\" class=\"data row8 col3\" >520</td>\n      <td id=\"T_20c9a_row8_col4\" class=\"data row8 col4\" >0.623077</td>\n    </tr>\n    <tr>\n      <th id=\"T_20c9a_level0_row9\" class=\"row_heading level0 row9\" >Nigeria</th>\n      <td id=\"T_20c9a_row9_col0\" class=\"data row9 col0\" >69</td>\n      <td id=\"T_20c9a_row9_col1\" class=\"data row9 col1\" >36</td>\n      <td id=\"T_20c9a_row9_col2\" class=\"data row9 col2\" >173</td>\n      <td id=\"T_20c9a_row9_col3\" class=\"data row9 col3\" >278</td>\n      <td id=\"T_20c9a_row9_col4\" class=\"data row9 col4\" >0.622302</td>\n    </tr>\n    <tr>\n      <th id=\"T_20c9a_level0_row10\" class=\"row_heading level0 row10\" >Ghana</th>\n      <td id=\"T_20c9a_row10_col0\" class=\"data row10 col0\" >73</td>\n      <td id=\"T_20c9a_row10_col1\" class=\"data row10 col1\" >39</td>\n      <td id=\"T_20c9a_row10_col2\" class=\"data row10 col2\" >180</td>\n      <td id=\"T_20c9a_row10_col3\" class=\"data row10 col3\" >292</td>\n      <td id=\"T_20c9a_row10_col4\" class=\"data row10 col4\" >0.616438</td>\n    </tr>\n    <tr>\n      <th id=\"T_20c9a_level0_row11\" class=\"row_heading level0 row11\" >Russia</th>\n      <td id=\"T_20c9a_row11_col0\" class=\"data row11 col0\" >71</td>\n      <td id=\"T_20c9a_row11_col1\" class=\"data row11 col1\" >49</td>\n      <td id=\"T_20c9a_row11_col2\" class=\"data row11 col2\" >188</td>\n      <td id=\"T_20c9a_row11_col3\" class=\"data row11 col3\" >308</td>\n      <td id=\"T_20c9a_row11_col4\" class=\"data row11 col4\" >0.610390</td>\n    </tr>\n    <tr>\n      <th id=\"T_20c9a_level0_row12\" class=\"row_heading level0 row12\" >Morocco</th>\n      <td id=\"T_20c9a_row12_col0\" class=\"data row12 col0\" >70</td>\n      <td id=\"T_20c9a_row12_col1\" class=\"data row12 col1\" >47</td>\n      <td id=\"T_20c9a_row12_col2\" class=\"data row12 col2\" >183</td>\n      <td id=\"T_20c9a_row12_col3\" class=\"data row12 col3\" >300</td>\n      <td id=\"T_20c9a_row12_col4\" class=\"data row12 col4\" >0.610000</td>\n    </tr>\n    <tr>\n      <th id=\"T_20c9a_level0_row13\" class=\"row_heading level0 row13\" >Czechoslovakia</th>\n      <td id=\"T_20c9a_row13_col0\" class=\"data row13 col0\" >51</td>\n      <td id=\"T_20c9a_row13_col1\" class=\"data row13 col1\" >40</td>\n      <td id=\"T_20c9a_row13_col2\" class=\"data row13 col2\" >140</td>\n      <td id=\"T_20c9a_row13_col3\" class=\"data row13 col3\" >231</td>\n      <td id=\"T_20c9a_row13_col4\" class=\"data row13 col4\" >0.606061</td>\n    </tr>\n    <tr>\n      <th id=\"T_20c9a_level0_row14\" class=\"row_heading level0 row14\" >Senegal</th>\n      <td id=\"T_20c9a_row14_col0\" class=\"data row14 col0\" >60</td>\n      <td id=\"T_20c9a_row14_col1\" class=\"data row14 col1\" >37</td>\n      <td id=\"T_20c9a_row14_col2\" class=\"data row14 col2\" >143</td>\n      <td id=\"T_20c9a_row14_col3\" class=\"data row14 col3\" >240</td>\n      <td id=\"T_20c9a_row14_col4\" class=\"data row14 col4\" >0.595833</td>\n    </tr>\n    <tr>\n      <th id=\"T_20c9a_level0_row15\" class=\"row_heading level0 row15\" >South Korea</th>\n      <td id=\"T_20c9a_row15_col0\" class=\"data row15 col0\" >116</td>\n      <td id=\"T_20c9a_row15_col1\" class=\"data row15 col1\" >82</td>\n      <td id=\"T_20c9a_row15_col2\" class=\"data row15 col2\" >291</td>\n      <td id=\"T_20c9a_row15_col3\" class=\"data row15 col3\" >489</td>\n      <td id=\"T_20c9a_row15_col4\" class=\"data row15 col4\" >0.595092</td>\n    </tr>\n    <tr>\n      <th id=\"T_20c9a_level0_row16\" class=\"row_heading level0 row16\" >Costa Rica</th>\n      <td id=\"T_20c9a_row16_col0\" class=\"data row16 col0\" >78</td>\n      <td id=\"T_20c9a_row16_col1\" class=\"data row16 col1\" >52</td>\n      <td id=\"T_20c9a_row16_col2\" class=\"data row16 col2\" >191</td>\n      <td id=\"T_20c9a_row16_col3\" class=\"data row16 col3\" >321</td>\n      <td id=\"T_20c9a_row16_col4\" class=\"data row16 col4\" >0.595016</td>\n    </tr>\n    <tr>\n      <th id=\"T_20c9a_level0_row17\" class=\"row_heading level0 row17\" >Mexico</th>\n      <td id=\"T_20c9a_row17_col0\" class=\"data row17 col0\" >122</td>\n      <td id=\"T_20c9a_row17_col1\" class=\"data row17 col1\" >100</td>\n      <td id=\"T_20c9a_row17_col2\" class=\"data row17 col2\" >316</td>\n      <td id=\"T_20c9a_row17_col3\" class=\"data row17 col3\" >538</td>\n      <td id=\"T_20c9a_row17_col4\" class=\"data row17 col4\" >0.587361</td>\n    </tr>\n    <tr>\n      <th id=\"T_20c9a_level0_row18\" class=\"row_heading level0 row18\" >Sweden</th>\n      <td id=\"T_20c9a_row18_col0\" class=\"data row18 col0\" >105</td>\n      <td id=\"T_20c9a_row18_col1\" class=\"data row18 col1\" >101</td>\n      <td id=\"T_20c9a_row18_col2\" class=\"data row18 col2\" >291</td>\n      <td id=\"T_20c9a_row18_col3\" class=\"data row18 col3\" >497</td>\n      <td id=\"T_20c9a_row18_col4\" class=\"data row18 col4\" >0.585513</td>\n    </tr>\n    <tr>\n      <th id=\"T_20c9a_level0_row19\" class=\"row_heading level0 row19\" >France</th>\n      <td id=\"T_20c9a_row19_col0\" class=\"data row19 col0\" >102</td>\n      <td id=\"T_20c9a_row19_col1\" class=\"data row19 col1\" >107</td>\n      <td id=\"T_20c9a_row19_col2\" class=\"data row19 col2\" >288</td>\n      <td id=\"T_20c9a_row19_col3\" class=\"data row19 col3\" >497</td>\n      <td id=\"T_20c9a_row19_col4\" class=\"data row19 col4\" >0.579477</td>\n    </tr>\n  </tbody>\n</table>\n"
     },
     "execution_count": 28,
     "metadata": {},
     "output_type": "execute_result"
    }
   ],
   "source": [
    "#How each team perform while playing a tournament in home grounds\n",
    "\n",
    "teams_win_statues=pd.crosstab(df[\"home_team\"], df[\"result\"],margins=True, margins_name=\"Total\")\n",
    "teams_win_statues[\"team_win_probability\"]=teams_win_statues[\"Win\"]/(teams_win_statues[\"Total\"])\n",
    "#Lets take teams which plays atleast 200 games\n",
    "teams_win_statues_100=teams_win_statues.loc[teams_win_statues[\"Total\"]>200]\n",
    "teams_win_statues_100=teams_win_statues_100.sort_values(\"team_win_probability\",ascending=False)\n",
    "teams_win_statues_100.head(20).style.bar(color=\"orange\",subset=\"team_win_probability\")\n",
    "\n",
    "#We can see teams has more than 50% wining probability while playing in the home grounds"
   ],
   "metadata": {
    "collapsed": false,
    "pycharm": {
     "name": "#%%\n"
    }
   }
  },
  {
   "cell_type": "code",
   "execution_count": 30,
   "outputs": [
    {
     "data": {
      "text/plain": "result       Draw  Lose  Win  Total  team_win_probability\naway_team                                                \nGermany        90   244  119    453              0.538631\nBrazil         95   226  102    423              0.534279\nEngland       135   265  115    515              0.514563\nSpain          99   166   83    348              0.477011\nIran           67   101   57    225              0.448889\nSouth Korea   114   181  109    404              0.448020\nNetherlands    83   164  129    376              0.436170\nRussia        116   176  113    405              0.434568\nJapan          56   115  103    274              0.419708\nItaly         111   152  104    367              0.414169\nAustralia      58    95   78    231              0.411255\nSweden        121   219  202    542              0.404059\nFrance         83   146  138    367              0.397820\nYugoslavia     61   114  115    290              0.393103\nMexico         88   146  139    373              0.391421\nZambia        106   169  158    433              0.390300\nPortugal       65   117  119    301              0.388704\nScotland       91   160  162    413              0.387409\nArgentina     128   171  145    444              0.385135\nHungary       106   184  196    486              0.378601",
      "text/html": "<div>\n<style scoped>\n    .dataframe tbody tr th:only-of-type {\n        vertical-align: middle;\n    }\n\n    .dataframe tbody tr th {\n        vertical-align: top;\n    }\n\n    .dataframe thead th {\n        text-align: right;\n    }\n</style>\n<table border=\"1\" class=\"dataframe\">\n  <thead>\n    <tr style=\"text-align: right;\">\n      <th>result</th>\n      <th>Draw</th>\n      <th>Lose</th>\n      <th>Win</th>\n      <th>Total</th>\n      <th>team_win_probability</th>\n    </tr>\n    <tr>\n      <th>away_team</th>\n      <th></th>\n      <th></th>\n      <th></th>\n      <th></th>\n      <th></th>\n    </tr>\n  </thead>\n  <tbody>\n    <tr>\n      <th>Germany</th>\n      <td>90</td>\n      <td>244</td>\n      <td>119</td>\n      <td>453</td>\n      <td>0.538631</td>\n    </tr>\n    <tr>\n      <th>Brazil</th>\n      <td>95</td>\n      <td>226</td>\n      <td>102</td>\n      <td>423</td>\n      <td>0.534279</td>\n    </tr>\n    <tr>\n      <th>England</th>\n      <td>135</td>\n      <td>265</td>\n      <td>115</td>\n      <td>515</td>\n      <td>0.514563</td>\n    </tr>\n    <tr>\n      <th>Spain</th>\n      <td>99</td>\n      <td>166</td>\n      <td>83</td>\n      <td>348</td>\n      <td>0.477011</td>\n    </tr>\n    <tr>\n      <th>Iran</th>\n      <td>67</td>\n      <td>101</td>\n      <td>57</td>\n      <td>225</td>\n      <td>0.448889</td>\n    </tr>\n    <tr>\n      <th>South Korea</th>\n      <td>114</td>\n      <td>181</td>\n      <td>109</td>\n      <td>404</td>\n      <td>0.448020</td>\n    </tr>\n    <tr>\n      <th>Netherlands</th>\n      <td>83</td>\n      <td>164</td>\n      <td>129</td>\n      <td>376</td>\n      <td>0.436170</td>\n    </tr>\n    <tr>\n      <th>Russia</th>\n      <td>116</td>\n      <td>176</td>\n      <td>113</td>\n      <td>405</td>\n      <td>0.434568</td>\n    </tr>\n    <tr>\n      <th>Japan</th>\n      <td>56</td>\n      <td>115</td>\n      <td>103</td>\n      <td>274</td>\n      <td>0.419708</td>\n    </tr>\n    <tr>\n      <th>Italy</th>\n      <td>111</td>\n      <td>152</td>\n      <td>104</td>\n      <td>367</td>\n      <td>0.414169</td>\n    </tr>\n    <tr>\n      <th>Australia</th>\n      <td>58</td>\n      <td>95</td>\n      <td>78</td>\n      <td>231</td>\n      <td>0.411255</td>\n    </tr>\n    <tr>\n      <th>Sweden</th>\n      <td>121</td>\n      <td>219</td>\n      <td>202</td>\n      <td>542</td>\n      <td>0.404059</td>\n    </tr>\n    <tr>\n      <th>France</th>\n      <td>83</td>\n      <td>146</td>\n      <td>138</td>\n      <td>367</td>\n      <td>0.397820</td>\n    </tr>\n    <tr>\n      <th>Yugoslavia</th>\n      <td>61</td>\n      <td>114</td>\n      <td>115</td>\n      <td>290</td>\n      <td>0.393103</td>\n    </tr>\n    <tr>\n      <th>Mexico</th>\n      <td>88</td>\n      <td>146</td>\n      <td>139</td>\n      <td>373</td>\n      <td>0.391421</td>\n    </tr>\n    <tr>\n      <th>Zambia</th>\n      <td>106</td>\n      <td>169</td>\n      <td>158</td>\n      <td>433</td>\n      <td>0.390300</td>\n    </tr>\n    <tr>\n      <th>Portugal</th>\n      <td>65</td>\n      <td>117</td>\n      <td>119</td>\n      <td>301</td>\n      <td>0.388704</td>\n    </tr>\n    <tr>\n      <th>Scotland</th>\n      <td>91</td>\n      <td>160</td>\n      <td>162</td>\n      <td>413</td>\n      <td>0.387409</td>\n    </tr>\n    <tr>\n      <th>Argentina</th>\n      <td>128</td>\n      <td>171</td>\n      <td>145</td>\n      <td>444</td>\n      <td>0.385135</td>\n    </tr>\n    <tr>\n      <th>Hungary</th>\n      <td>106</td>\n      <td>184</td>\n      <td>196</td>\n      <td>486</td>\n      <td>0.378601</td>\n    </tr>\n  </tbody>\n</table>\n</div>"
     },
     "execution_count": 30,
     "metadata": {},
     "output_type": "execute_result"
    }
   ],
   "source": [
    "#Teams playing in away conditions\n",
    "\n",
    "teams_away_statues=pd.crosstab(df[\"away_team\"], df[\"result\"],margins=True, margins_name=\"Total\")\n",
    "teams_away_statues[\"team_win_probability\"]=teams_away_statues[\"Lose\"]/(teams_away_statues[\"Total\"])\n",
    "#Lets take teams which plays atleast 200 games\n",
    "teams_away_statues_100=teams_away_statues.loc[teams_away_statues[\"Total\"]>200]\n",
    "teams_away_statues_100=teams_away_statues_100.sort_values(\"team_win_probability\",ascending=False)\n",
    "teams_away_statues_100.rename(columns={'Lost': 'Win'}, index={'Win': 'Lost'}, inplace=True)\n",
    "teams_away_statues_100.head(20)\n",
    "\n",
    "#The probability to wining a tournament in away conditions is very low comapred to the winning probalities in home conditions"
   ],
   "metadata": {
    "collapsed": false,
    "pycharm": {
     "name": "#%%\n"
    }
   }
  },
  {
   "cell_type": "code",
   "execution_count": 31,
   "outputs": [
    {
     "data": {
      "text/plain": "<Figure size 1008x432 with 1 Axes>",
      "image/png": "[encoded data removed]"
     },
     "metadata": {
      "needs_background": "light"
     },
     "output_type": "display_data"
    }
   ],
   "source": [
    "#Making a plot to identify wining possibilities in both home and away conditions\n",
    "\n",
    "win_prob={teams_win_statues_100.iloc[i,:].name:[teams_win_statues_100.iloc[i,4]] for i in range(teams_win_statues_100.shape[0])}\n",
    "for i in range(teams_away_statues_100.shape[0]):\n",
    "    try:\n",
    "        win_prob[teams_away_statues_100.iloc[i,:].name].append(teams_away_statues_100.iloc[i,4])\n",
    "    except:\n",
    "        pass\n",
    "country_names=win_prob.keys()\n",
    "lst_home=[i[0] for i in win_prob.values()]\n",
    "\n",
    "lst_away=[]\n",
    "for i in win_prob.values():\n",
    "    if len(i)==2:\n",
    "        lst_away.append(i[1])\n",
    "    else:\n",
    "        lst_away.append(0)\n",
    "\n",
    "plt.figure(figsize=(14,6))\n",
    "plt.plot(country_names,lst_home, label = \"Home Win Probability\")\n",
    "plt.plot(country_names, lst_away, label = \"Away Win Probability\")\n",
    "plt.xticks(rotation = 90)\n",
    "plt.title(\"Winning Probability of each team (Home and Away)\")\n",
    "plt.legend()\n",
    "plt.show()"
   ],
   "metadata": {
    "collapsed": false,
    "pycharm": {
     "name": "#%%\n"
    }
   }
  },
  {
   "cell_type": "code",
   "execution_count": 20,
   "outputs": [
    {
     "name": "stdout",
     "output_type": "stream",
     "text": [
      "<class 'pandas.core.frame.DataFrame'>\n",
      "RangeIndex: 21276 entries, 0 to 21275\n",
      "Data columns (total 2 columns):\n",
      " #   Column  Non-Null Count  Dtype\n",
      "---  ------  --------------  -----\n",
      " 0   0       21276 non-null  int64\n",
      " 1   1       21276 non-null  int64\n",
      "dtypes: int64(2)\n",
      "memory usage: 332.6 KB\n"
     ]
    }
   ],
   "source": [
    "Y = pd.DataFrame(Y)\n",
    "Y.info()"
   ],
   "metadata": {
    "collapsed": false,
    "pycharm": {
     "name": "#%%\n"
    }
   }
  },
  {
   "cell_type": "code",
   "execution_count": 21,
   "outputs": [
    {
     "name": "stdout",
     "output_type": "stream",
     "text": [
      "<class 'pandas.core.frame.DataFrame'>\n",
      "RangeIndex: 21276 entries, 0 to 21275\n",
      "Data columns (total 4 columns):\n",
      " #   Column  Non-Null Count  Dtype \n",
      "---  ------  --------------  ----- \n",
      " 0   0       21276 non-null  object\n",
      " 1   1       21276 non-null  object\n",
      " 2   2       21276 non-null  object\n",
      " 3   3       21276 non-null  object\n",
      "dtypes: object(4)\n",
      "memory usage: 665.0+ KB\n"
     ]
    }
   ],
   "source": [
    "X = pd.DataFrame(X)\n",
    "X.info()"
   ],
   "metadata": {
    "collapsed": false,
    "pycharm": {
     "name": "#%%\n"
    }
   }
  },
  {
   "cell_type": "markdown",
   "source": [
    "### Random Forest Classifier"
   ],
   "metadata": {
    "collapsed": false,
    "pycharm": {
     "name": "#%% md\n"
    }
   }
  },
  {
   "cell_type": "code",
   "execution_count": 66,
   "outputs": [
    {
     "data": {
      "text/plain": "MultiOutputRegressor(estimator=RandomForestClassifier(n_estimators=500))"
     },
     "execution_count": 66,
     "metadata": {},
     "output_type": "execute_result"
    }
   ],
   "source": [
    "rfmodel = MultiOutputRegressor(RandomForestClassifier(n_estimators=500))\n",
    "rfmodel.fit(X,Y)"
   ],
   "metadata": {
    "collapsed": false,
    "pycharm": {
     "name": "#%%\n"
    }
   }
  },
  {
   "cell_type": "code",
   "execution_count": 67,
   "outputs": [
    {
     "data": {
      "text/plain": "array([[1, 0],\n       [1, 0],\n       [2, 0],\n       ...,\n       [1, 1],\n       [2, 0],\n       [1, 0]], dtype=int64)"
     },
     "execution_count": 67,
     "metadata": {},
     "output_type": "execute_result"
    }
   ],
   "source": [
    "rfpred = rfmodel.predict(X)\n",
    "rfpred"
   ],
   "metadata": {
    "collapsed": false,
    "pycharm": {
     "name": "#%%\n"
    }
   }
  },
  {
   "cell_type": "code",
   "execution_count": 68,
   "outputs": [
    {
     "name": "stdout",
     "output_type": "stream",
     "text": [
      "              precision    recall  f1-score   support\n",
      "\n",
      "           0       0.96      0.98      0.97      5162\n",
      "           1       0.97      0.97      0.97      6497\n",
      "           2       0.97      0.96      0.97      4775\n",
      "           3       0.97      0.96      0.96      2422\n",
      "           4       0.97      0.97      0.97      1235\n",
      "           5       0.97      0.97      0.97       583\n",
      "           6       0.95      0.95      0.95       309\n",
      "           7       0.95      0.97      0.96       156\n",
      "           8       0.97      0.93      0.95        92\n",
      "           9       0.94      1.00      0.97        45\n",
      "\n",
      "    accuracy                           0.97     21276\n",
      "   macro avg       0.96      0.97      0.96     21276\n",
      "weighted avg       0.97      0.97      0.97     21276\n",
      "\n"
     ]
    }
   ],
   "source": [
    "score_team_1=[i[0] for i in rfpred]\n",
    "score_team_2=[i[1] for i in rfpred]\n",
    "\n",
    "rfreport = classification_report(Y.iloc[:,0],score_team_1)\n",
    "print(rfreport)"
   ],
   "metadata": {
    "collapsed": false,
    "pycharm": {
     "name": "#%%\n"
    }
   }
  },
  {
   "cell_type": "code",
   "execution_count": 69,
   "outputs": [
    {
     "name": "stdout",
     "output_type": "stream",
     "text": [
      "              precision    recall  f1-score   support\n",
      "\n",
      "           0       0.97      0.99      0.98      7883\n",
      "           1       0.97      0.97      0.97      6937\n",
      "           2       0.97      0.96      0.96      3751\n",
      "           3       0.98      0.95      0.96      1608\n",
      "           4       0.94      0.94      0.94       653\n",
      "           5       0.99      0.94      0.96       242\n",
      "           6       0.95      0.97      0.96       118\n",
      "           7       0.91      0.96      0.93        51\n",
      "           8       0.92      0.89      0.91        27\n",
      "           9       1.00      1.00      1.00         6\n",
      "\n",
      "    accuracy                           0.97     21276\n",
      "   macro avg       0.96      0.96      0.96     21276\n",
      "weighted avg       0.97      0.97      0.97     21276\n",
      "\n"
     ]
    }
   ],
   "source": [
    "rfreport2 = classification_report(Y.iloc[:,1],score_team_2)\n",
    "print(rfreport2)"
   ],
   "metadata": {
    "collapsed": false,
    "pycharm": {
     "name": "#%%\n"
    }
   }
  },
  {
   "cell_type": "markdown",
   "source": [
    "### Decision Tree Classifier"
   ],
   "metadata": {
    "collapsed": false,
    "pycharm": {
     "name": "#%% md\n"
    }
   }
  },
  {
   "cell_type": "code",
   "execution_count": 26,
   "outputs": [
    {
     "data": {
      "text/plain": "MultiOutputRegressor(estimator=DecisionTreeClassifier())"
     },
     "execution_count": 26,
     "metadata": {},
     "output_type": "execute_result"
    }
   ],
   "source": [
    "dtmodel = MultiOutputRegressor(DecisionTreeClassifier())\n",
    "dtmodel.fit(X,Y)"
   ],
   "metadata": {
    "collapsed": false,
    "pycharm": {
     "name": "#%%\n"
    }
   }
  },
  {
   "cell_type": "code",
   "execution_count": 27,
   "outputs": [
    {
     "data": {
      "text/plain": "array([[1, 0],\n       [1, 0],\n       [2, 0],\n       ...,\n       [1, 1],\n       [2, 0],\n       [1, 0]], dtype=int64)"
     },
     "execution_count": 27,
     "metadata": {},
     "output_type": "execute_result"
    }
   ],
   "source": [
    "dtpred = dtmodel.predict(X)\n",
    "dtpred"
   ],
   "metadata": {
    "collapsed": false,
    "pycharm": {
     "name": "#%%\n"
    }
   }
  },
  {
   "cell_type": "code",
   "execution_count": 28,
   "outputs": [
    {
     "name": "stdout",
     "output_type": "stream",
     "text": [
      "              precision    recall  f1-score   support\n",
      "\n",
      "           0       0.95      1.00      0.97      5162\n",
      "           1       0.97      0.98      0.97      6497\n",
      "           2       0.98      0.95      0.97      4775\n",
      "           3       0.99      0.94      0.96      2422\n",
      "           4       0.99      0.95      0.97      1235\n",
      "           5       0.98      0.95      0.97       583\n",
      "           6       1.00      0.92      0.95       309\n",
      "           7       0.99      0.92      0.96       156\n",
      "           8       1.00      0.90      0.95        92\n",
      "           9       1.00      0.93      0.97        45\n",
      "\n",
      "    accuracy                           0.97     21276\n",
      "   macro avg       0.98      0.94      0.96     21276\n",
      "weighted avg       0.97      0.97      0.97     21276\n",
      "\n"
     ]
    }
   ],
   "source": [
    "score_team_1_dt=[i[0] for i in dtpred]\n",
    "score_team_2_dt=[i[1] for i in dtpred]\n",
    "\n",
    "dtreport = classification_report(Y.iloc[:,0],score_team_1_dt)\n",
    "print(dtreport)"
   ],
   "metadata": {
    "collapsed": false,
    "pycharm": {
     "name": "#%%\n"
    }
   }
  },
  {
   "cell_type": "code",
   "execution_count": 29,
   "outputs": [
    {
     "name": "stdout",
     "output_type": "stream",
     "text": [
      "              precision    recall  f1-score   support\n",
      "\n",
      "           0       0.96      1.00      0.98      7883\n",
      "           1       0.97      0.97      0.97      6937\n",
      "           2       0.98      0.94      0.96      3751\n",
      "           3       0.99      0.93      0.96      1608\n",
      "           4       0.97      0.92      0.94       653\n",
      "           5       1.00      0.93      0.96       242\n",
      "           6       1.00      0.95      0.97       118\n",
      "           7       1.00      0.86      0.93        51\n",
      "           8       1.00      0.81      0.90        27\n",
      "           9       1.00      1.00      1.00         6\n",
      "\n",
      "    accuracy                           0.97     21276\n",
      "   macro avg       0.99      0.93      0.96     21276\n",
      "weighted avg       0.97      0.97      0.97     21276\n",
      "\n"
     ]
    }
   ],
   "source": [
    "dtreport2 = classification_report(Y.iloc[:,1],score_team_2_dt)\n",
    "print(dtreport2)"
   ],
   "metadata": {
    "collapsed": false,
    "pycharm": {
     "name": "#%%\n"
    }
   }
  },
  {
   "cell_type": "markdown",
   "source": [
    "### KNN Classification"
   ],
   "metadata": {
    "collapsed": false,
    "pycharm": {
     "name": "#%% md\n"
    }
   }
  },
  {
   "cell_type": "code",
   "execution_count": 30,
   "outputs": [
    {
     "data": {
      "text/plain": "MultiOutputRegressor(estimator=KNeighborsClassifier())"
     },
     "execution_count": 30,
     "metadata": {},
     "output_type": "execute_result"
    }
   ],
   "source": [
    "knnmodel = MultiOutputRegressor(KNeighborsClassifier())\n",
    "knnmodel.fit(X,Y)"
   ],
   "metadata": {
    "collapsed": false,
    "pycharm": {
     "name": "#%%\n"
    }
   }
  },
  {
   "cell_type": "code",
   "execution_count": 31,
   "outputs": [
    {
     "data": {
      "text/plain": "array([[3, 1],\n       [1, 1],\n       [2, 0],\n       ...,\n       [1, 0],\n       [1, 0],\n       [0, 0]], dtype=int64)"
     },
     "execution_count": 31,
     "metadata": {},
     "output_type": "execute_result"
    }
   ],
   "source": [
    "knnpred = knnmodel.predict(X)\n",
    "knnpred"
   ],
   "metadata": {
    "collapsed": false,
    "pycharm": {
     "name": "#%%\n"
    }
   }
  },
  {
   "cell_type": "code",
   "execution_count": 32,
   "outputs": [
    {
     "name": "stdout",
     "output_type": "stream",
     "text": [
      "              precision    recall  f1-score   support\n",
      "\n",
      "           0       0.52      0.73      0.61      5162\n",
      "           1       0.56      0.66      0.61      6497\n",
      "           2       0.55      0.48      0.51      4775\n",
      "           3       0.52      0.31      0.39      2422\n",
      "           4       0.49      0.19      0.27      1235\n",
      "           5       0.43      0.11      0.17       583\n",
      "           6       0.57      0.10      0.17       309\n",
      "           7       0.56      0.10      0.16       156\n",
      "           8       0.86      0.07      0.12        92\n",
      "           9       0.50      0.09      0.15        45\n",
      "\n",
      "    accuracy                           0.54     21276\n",
      "   macro avg       0.56      0.28      0.32     21276\n",
      "weighted avg       0.54      0.54      0.52     21276\n",
      "\n"
     ]
    }
   ],
   "source": [
    "score_team_1=[i[0] for i in knnpred]\n",
    "score_team_2=[i[1] for i in knnpred]\n",
    "\n",
    "knnreport = classification_report(Y.iloc[:,0],score_team_1)\n",
    "print(knnreport)"
   ],
   "metadata": {
    "collapsed": false,
    "pycharm": {
     "name": "#%%\n"
    }
   }
  },
  {
   "cell_type": "code",
   "execution_count": 33,
   "outputs": [
    {
     "name": "stdout",
     "output_type": "stream",
     "text": [
      "              precision    recall  f1-score   support\n",
      "\n",
      "           0       0.58      0.78      0.67      7883\n",
      "           1       0.58      0.62      0.60      6937\n",
      "           2       0.55      0.35      0.43      3751\n",
      "           3       0.51      0.19      0.27      1608\n",
      "           4       0.45      0.15      0.23       653\n",
      "           5       0.53      0.12      0.19       242\n",
      "           6       0.50      0.08      0.14       118\n",
      "           7       0.67      0.04      0.07        51\n",
      "           8       0.00      0.00      0.00        27\n",
      "           9       0.00      0.00      0.00         6\n",
      "\n",
      "    accuracy                           0.57     21276\n",
      "   macro avg       0.44      0.23      0.26     21276\n",
      "weighted avg       0.56      0.57      0.55     21276\n",
      "\n"
     ]
    }
   ],
   "source": [
    "knnreport2 = classification_report(Y.iloc[:,1],score_team_2, zero_division=False)\n",
    "print(knnreport2)"
   ],
   "metadata": {
    "collapsed": false,
    "pycharm": {
     "name": "#%%\n"
    }
   }
  },
  {
   "cell_type": "markdown",
   "source": [
    "### XGBoost"
   ],
   "metadata": {
    "collapsed": false,
    "pycharm": {
     "name": "#%% md\n"
    }
   }
  },
  {
   "cell_type": "code",
   "execution_count": 48,
   "outputs": [
    {
     "data": {
      "text/plain": "XGBRegressor(base_score=None, booster='gbtree', callbacks=None,\n             colsample_bylevel=None, colsample_bynode=None,\n             colsample_bytree=None, early_stopping_rounds=None,\n             enable_categorical=False, eval_metric=['auc', 'rmse'], gamma=None,\n             gpu_id=None, grow_policy=None, importance_type=None,\n             interaction_constraints=None, learning_rate=None, max_bin=None,\n             max_cat_to_onehot=None, max_delta_step=None, max_depth=None,\n             max_leaves=None, min_child_weight=None, missing=nan,\n             monotone_constraints=None, n_estimators=8000, n_jobs=-1,\n             num_parallel_tree=None, predictor=None, random_state=None,\n             reg_alpha=None, reg_lambda=None, ...)"
     },
     "execution_count": 48,
     "metadata": {},
     "output_type": "execute_result"
    }
   ],
   "source": [
    "from xgboost import XGBRegressor\n",
    "model = XGBRegressor(\n",
    "    n_estimators=8000,\n",
    "    booster='gbtree',\n",
    "    eval_metric=['auc', \"rmse\"],\n",
    "    n_jobs=-1,\n",
    ")\n",
    "model"
   ],
   "metadata": {
    "collapsed": false,
    "pycharm": {
     "name": "#%%\n"
    }
   }
  },
  {
   "cell_type": "code",
   "execution_count": 24,
   "outputs": [
    {
     "data": {
      "text/plain": "0    object\n1    object\n2    object\n3    object\ndtype: object"
     },
     "execution_count": 24,
     "metadata": {},
     "output_type": "execute_result"
    }
   ],
   "source": [
    "X.dtypes"
   ],
   "metadata": {
    "collapsed": false,
    "pycharm": {
     "name": "#%%\n"
    }
   }
  },
  {
   "cell_type": "code",
   "execution_count": 25,
   "outputs": [
    {
     "data": {
      "text/plain": "0    int32\n1    int32\n2    int32\n3    int32\ndtype: object"
     },
     "execution_count": 25,
     "metadata": {},
     "output_type": "execute_result"
    }
   ],
   "source": [
    "X = X.astype('int')\n",
    "X.dtypes"
   ],
   "metadata": {
    "collapsed": false,
    "pycharm": {
     "name": "#%%\n"
    }
   }
  },
  {
   "cell_type": "code",
   "execution_count": 252,
   "outputs": [
    {
     "data": {
      "text/plain": "MultiOutputRegressor(estimator=XGBRegressor(base_score=None, booster='gbtree',\n                                            callbacks=None,\n                                            colsample_bylevel=None,\n                                            colsample_bynode=None,\n                                            colsample_bytree=None,\n                                            early_stopping_rounds=None,\n                                            enable_categorical=False,\n                                            eval_metric=None, gamma=None,\n                                            gpu_id=None, grow_policy=None,\n                                            importance_type=None,\n                                            interaction_constraints=None,\n                                            learning_rate=None, max_bin=None,\n                                            max_cat_to_onehot=None,\n                                            max_delta_step=None, max_depth=12,\n                                            max_leaves=None, min_child_weight=6,\n                                            missing=nan,\n                                            monotone_constraints=None,\n                                            n_estimators=8000, n_jobs=None,\n                                            num_parallel_tree=6, predictor=None,\n                                            random_state=None, reg_alpha=None,\n                                            reg_lambda=None, ...))"
     },
     "execution_count": 252,
     "metadata": {},
     "output_type": "execute_result"
    }
   ],
   "source": [
    "xgbmodel = MultiOutputRegressor(model)\n",
    "xgbmodel.fit(X,Y)"
   ],
   "metadata": {
    "collapsed": false,
    "pycharm": {
     "name": "#%%\n"
    }
   }
  },
  {
   "cell_type": "code",
   "execution_count": 49,
   "outputs": [
    {
     "data": {
      "text/plain": "MultiOutputRegressor(estimator=XGBRegressor(base_score=None, booster='gbtree',\n                                            callbacks=None,\n                                            colsample_bylevel=None,\n                                            colsample_bynode=None,\n                                            colsample_bytree=None,\n                                            early_stopping_rounds=None,\n                                            enable_categorical=False,\n                                            eval_metric=['auc', 'rmse'],\n                                            gamma=None, gpu_id=None,\n                                            grow_policy=None,\n                                            importance_type=None,\n                                            interaction_constraints=None,\n                                            learning_rate=None, max_bin=None,\n                                            max_cat_to_onehot=None,\n                                            max_delta_step=None, max_depth=None,\n                                            max_leaves=None,\n                                            min_child_weight=None, missing=nan,\n                                            monotone_constraints=None,\n                                            n_estimators=8000, n_jobs=-1,\n                                            num_parallel_tree=None,\n                                            predictor=None, random_state=None,\n                                            reg_alpha=None, reg_lambda=None, ...))"
     },
     "execution_count": 49,
     "metadata": {},
     "output_type": "execute_result"
    }
   ],
   "source": [
    "xgbmodel1 = MultiOutputRegressor(model)\n",
    "xgbmodel1.fit(X,Y)"
   ],
   "metadata": {
    "collapsed": false,
    "pycharm": {
     "name": "#%%\n"
    }
   }
  },
  {
   "cell_type": "code",
   "execution_count": 50,
   "outputs": [
    {
     "name": "stdout",
     "output_type": "stream",
     "text": [
      "Training score:  0.9698202461925745\n"
     ]
    }
   ],
   "source": [
    "score = xgbmodel1.score(X, Y)\n",
    "print(\"Training score: \", score)"
   ],
   "metadata": {
    "collapsed": false,
    "pycharm": {
     "name": "#%%\n"
    }
   }
  },
  {
   "cell_type": "code",
   "execution_count": 51,
   "outputs": [
    {
     "data": {
      "text/plain": "array([[ 1.0043347e+00, -3.4071715e-03],\n       [ 9.9954343e-01,  2.6421743e-03],\n       [ 1.9989609e+00, -5.7748094e-04],\n       ...,\n       [ 1.0006217e+00,  1.0024866e+00],\n       [ 1.9996599e+00,  9.3618280e-04],\n       [ 1.0004966e+00,  9.7665354e-04]], dtype=float32)"
     },
     "execution_count": 51,
     "metadata": {},
     "output_type": "execute_result"
    }
   ],
   "source": [
    "xgbrpred1 = xgbmodel1.predict(X)\n",
    "xgbrpred1"
   ],
   "metadata": {
    "collapsed": false,
    "pycharm": {
     "name": "#%%\n"
    }
   }
  },
  {
   "cell_type": "code",
   "execution_count": 52,
   "outputs": [
    {
     "data": {
      "text/plain": "array([[1, 0],\n       [1, 0],\n       [2, 0],\n       ...,\n       [1, 1],\n       [2, 0],\n       [1, 0]])"
     },
     "execution_count": 52,
     "metadata": {},
     "output_type": "execute_result"
    }
   ],
   "source": [
    "xgbrpred1 = np.round(xgbrpred1)\n",
    "xgbrpred1 = np.int_(xgbrpred1)\n",
    "xgbrpred1"
   ],
   "metadata": {
    "collapsed": false,
    "pycharm": {
     "name": "#%%\n"
    }
   }
  },
  {
   "cell_type": "code",
   "execution_count": 53,
   "outputs": [
    {
     "name": "stdout",
     "output_type": "stream",
     "text": [
      "Accuracy: 95.52%\n"
     ]
    }
   ],
   "source": [
    "from sklearn.metrics import accuracy_score\n",
    "\n",
    "Ypred = pd.DataFrame(Y)\n",
    "Xpred = pd.DataFrame(xgbrpred1)\n",
    "\n",
    "accuracy = accuracy_score(Ypred.iloc[:, 0], Xpred.iloc[:, 0] )\n",
    "print(\"Accuracy: %.2f%%\" % (accuracy * 100.0))"
   ],
   "metadata": {
    "collapsed": false,
    "pycharm": {
     "name": "#%%\n"
    }
   }
  },
  {
   "cell_type": "code",
   "execution_count": 253,
   "outputs": [
    {
     "data": {
      "text/plain": "array([[ 1.0008392e+00, -6.0913015e-05],\n       [ 1.0031062e+00, -1.5373398e-03],\n       [ 1.9991062e+00, -1.0003102e-03],\n       ...,\n       [ 1.0013429e+00,  1.0039610e+00],\n       [ 1.9999537e+00, -3.1889143e-04],\n       [ 1.0001768e+00,  3.4289755e-04]], dtype=float32)"
     },
     "execution_count": 253,
     "metadata": {},
     "output_type": "execute_result"
    }
   ],
   "source": [
    "xgbrpred = xgbmodel.predict(X)\n",
    "xgbrpred"
   ],
   "metadata": {
    "collapsed": false,
    "pycharm": {
     "name": "#%%\n"
    }
   }
  },
  {
   "cell_type": "code",
   "execution_count": 254,
   "outputs": [
    {
     "data": {
      "text/plain": "array([[1, 0],\n       [1, 0],\n       [2, 0],\n       ...,\n       [1, 1],\n       [2, 0],\n       [1, 0]])"
     },
     "execution_count": 254,
     "metadata": {},
     "output_type": "execute_result"
    }
   ],
   "source": [
    "xgbrpred = np.round(xgbrpred)\n",
    "xgbrpred = np.int_(xgbrpred)\n",
    "xgbrpred"
   ],
   "metadata": {
    "collapsed": false,
    "pycharm": {
     "name": "#%%\n"
    }
   }
  },
  {
   "cell_type": "code",
   "execution_count": 255,
   "outputs": [
    {
     "name": "stdout",
     "output_type": "stream",
     "text": [
      "Training score:  0.9693606948205399\n"
     ]
    }
   ],
   "source": [
    "score = xgbmodel.score(X, Y)\n",
    "print(\"Training score: \", score)"
   ],
   "metadata": {
    "collapsed": false,
    "pycharm": {
     "name": "#%%\n"
    }
   }
  },
  {
   "cell_type": "code",
   "execution_count": 256,
   "outputs": [
    {
     "name": "stdout",
     "output_type": "stream",
     "text": [
      "Accuracy: 95.51%\n"
     ]
    }
   ],
   "source": [
    "from sklearn.metrics import accuracy_score\n",
    "\n",
    "Ypred = pd.DataFrame(Y)\n",
    "Xpred = pd.DataFrame(xgbrpred)\n",
    "\n",
    "accuracy = accuracy_score(Ypred.iloc[:, 0], Xpred.iloc[:, 0] )\n",
    "print(\"Accuracy: %.2f%%\" % (accuracy * 100.0))"
   ],
   "metadata": {
    "collapsed": false,
    "pycharm": {
     "name": "#%%\n"
    }
   }
  },
  {
   "cell_type": "code",
   "execution_count": 64,
   "outputs": [
    {
     "name": "stdout",
     "output_type": "stream",
     "text": [
      "              precision    recall  f1-score   support\n",
      "\n",
      "           0       0.99      0.96      0.97      5162\n",
      "           1       0.94      0.97      0.96      6497\n",
      "           2       0.94      0.95      0.95      4775\n",
      "           3       0.95      0.94      0.95      2422\n",
      "           4       0.94      0.95      0.94      1235\n",
      "           5       0.94      0.95      0.94       583\n",
      "           6       0.95      0.91      0.93       309\n",
      "           7       0.97      0.92      0.94       156\n",
      "           8       1.00      0.90      0.95        92\n",
      "           9       1.00      0.93      0.97        45\n",
      "\n",
      "    accuracy                           0.96     21276\n",
      "   macro avg       0.96      0.94      0.95     21276\n",
      "weighted avg       0.96      0.96      0.96     21276\n",
      "\n"
     ]
    }
   ],
   "source": [
    "score_team_1=[i[0] for i in xgbrpred]\n",
    "score_team_2=[i[1] for i in xgbrpred]\n",
    "\n",
    "xgbreport = classification_report(Y.iloc[:,0],score_team_1, zero_division=False)\n",
    "print(xgbreport)"
   ],
   "metadata": {
    "collapsed": false,
    "pycharm": {
     "name": "#%%\n"
    }
   }
  },
  {
   "cell_type": "markdown",
   "source": [
    "## Gradient Boosting Regressor"
   ],
   "metadata": {
    "collapsed": false,
    "pycharm": {
     "name": "#%% md\n"
    }
   }
  },
  {
   "cell_type": "code",
   "execution_count": 78,
   "outputs": [
    {
     "data": {
      "text/plain": "GradientBoostingRegressor(max_depth=8, n_estimators=4000, verbose=1)"
     },
     "execution_count": 78,
     "metadata": {},
     "output_type": "execute_result"
    }
   ],
   "source": [
    "from sklearn.ensemble import GradientBoostingRegressor\n",
    "model = GradientBoostingRegressor(n_estimators=4000, verbose=1, max_depth=8)\n",
    "model"
   ],
   "metadata": {
    "collapsed": false,
    "pycharm": {
     "name": "#%%\n"
    }
   }
  },
  {
   "cell_type": "code",
   "execution_count": 79,
   "outputs": [
    {
     "name": "stdout",
     "output_type": "stream",
     "text": [
      "      Iter       Train Loss   Remaining Time \n",
      "         1           2.3659            2.47m\n",
      "         2           2.3007            2.43m\n",
      "         3           2.2469            2.73m\n",
      "         4           2.2043            2.86m\n",
      "         5           2.1559            3.10m\n",
      "         6           2.1155            3.11m\n",
      "         7           2.0705            3.06m\n",
      "         8           2.0407            2.98m\n",
      "         9           2.0090            2.91m\n",
      "        10           1.9894            2.86m\n",
      "        20           1.7912            2.70m\n",
      "        30           1.6601            3.06m\n",
      "        40           1.5267            3.09m\n",
      "        50           1.4284            3.05m\n",
      "        60           1.3616            3.05m\n",
      "        70           1.3039            3.09m\n",
      "        80           1.2547            3.12m\n",
      "        90           1.2052            3.07m\n",
      "       100           1.1645            3.01m\n",
      "       200           0.8466            2.68m\n",
      "       300           0.6510            2.50m\n",
      "       400           0.5252            2.41m\n",
      "       500           0.4361            2.31m\n",
      "       600           0.3667            2.19m\n",
      "       700           0.3075            2.08m\n",
      "       800           0.2690            1.98m\n",
      "       900           0.2318            1.88m\n",
      "      1000           0.2018            1.80m\n",
      "      2000           0.0861            1.11m\n",
      "      3000           0.0697           33.22s\n",
      "      4000           0.0669            0.00s\n",
      "      Iter       Train Loss   Remaining Time \n",
      "         1           1.5544            2.07m\n",
      "         2           1.5144            2.10m\n",
      "         3           1.4796            2.09m\n",
      "         4           1.4529            2.08m\n",
      "         5           1.4279            2.06m\n",
      "         6           1.4036            2.06m\n",
      "         7           1.3838            2.06m\n",
      "         8           1.3595            2.06m\n",
      "         9           1.3434            2.06m\n",
      "        10           1.3208            2.06m\n",
      "        20           1.1977            2.05m\n",
      "        30           1.1091            2.06m\n",
      "        40           1.0524            2.07m\n",
      "        50           0.9919            2.08m\n",
      "        60           0.9551            2.09m\n",
      "        70           0.9156            2.08m\n",
      "        80           0.8830            2.09m\n",
      "        90           0.8486            2.11m\n",
      "       100           0.8287            2.13m\n",
      "       200           0.6173            2.10m\n",
      "       300           0.4824            2.00m\n",
      "       400           0.3911            1.98m\n",
      "       500           0.3109            1.95m\n",
      "       600           0.2584            1.90m\n",
      "       700           0.2207            1.83m\n",
      "       800           0.1909            1.77m\n",
      "       900           0.1641            1.73m\n",
      "      1000           0.1455            1.67m\n",
      "      2000           0.0676            1.11m\n",
      "      3000           0.0548           33.97s\n",
      "      4000           0.0526            0.00s\n"
     ]
    },
    {
     "data": {
      "text/plain": "MultiOutputRegressor(estimator=GradientBoostingRegressor(max_depth=8,\n                                                         n_estimators=4000,\n                                                         verbose=1))"
     },
     "execution_count": 79,
     "metadata": {},
     "output_type": "execute_result"
    }
   ],
   "source": [
    "gbrmodel = MultiOutputRegressor(model)\n",
    "gbrmodel.fit(X, Y)"
   ],
   "metadata": {
    "collapsed": false,
    "pycharm": {
     "name": "#%%\n"
    }
   }
  },
  {
   "cell_type": "code",
   "execution_count": 80,
   "outputs": [
    {
     "name": "stdout",
     "output_type": "stream",
     "text": [
      "Training score:  0.9696842508062817\n"
     ]
    }
   ],
   "source": [
    "score = gbrmodel.score(X, Y)\n",
    "print(\"Training score: \", score)"
   ],
   "metadata": {
    "collapsed": false,
    "pycharm": {
     "name": "#%%\n"
    }
   }
  },
  {
   "cell_type": "code",
   "execution_count": 81,
   "outputs": [
    {
     "data": {
      "text/plain": "array([[ 1.00884469e+00,  9.65946018e-04],\n       [ 9.99572877e-01, -8.69444376e-03],\n       [ 1.99511670e+00,  4.83747373e-03],\n       ...,\n       [ 1.00725073e+00,  1.00295967e+00],\n       [ 2.00025434e+00,  3.18769132e-04],\n       [ 9.99679712e-01, -1.03441836e-03]])"
     },
     "execution_count": 81,
     "metadata": {},
     "output_type": "execute_result"
    }
   ],
   "source": [
    "gbrpred= gbrmodel.predict(X)\n",
    "gbrpred"
   ],
   "metadata": {
    "collapsed": false,
    "pycharm": {
     "name": "#%%\n"
    }
   }
  },
  {
   "cell_type": "code",
   "execution_count": 82,
   "outputs": [
    {
     "data": {
      "text/plain": "array([[1, 0],\n       [1, 0],\n       [2, 0],\n       ...,\n       [1, 1],\n       [2, 0],\n       [1, 0]])"
     },
     "execution_count": 82,
     "metadata": {},
     "output_type": "execute_result"
    }
   ],
   "source": [
    "gbrpred = np.round(gbrpred)\n",
    "gbrpred = np.int_(gbrpred)\n",
    "gbrpred"
   ],
   "metadata": {
    "collapsed": false,
    "pycharm": {
     "name": "#%%\n"
    }
   }
  },
  {
   "cell_type": "code",
   "execution_count": 83,
   "outputs": [
    {
     "name": "stdout",
     "output_type": "stream",
     "text": [
      "Accuracy: 95.52%\n"
     ]
    }
   ],
   "source": [
    "from sklearn.metrics import accuracy_score\n",
    "\n",
    "Ypred = pd.DataFrame(Y)\n",
    "Xpred = pd.DataFrame(gbrpred)\n",
    "\n",
    "accuracy = accuracy_score(Ypred.iloc[:, 0], Xpred.iloc[:, 0] )\n",
    "print(\"Accuracy: %.2f%%\" % (accuracy * 100.0))"
   ],
   "metadata": {
    "collapsed": false,
    "pycharm": {
     "name": "#%%\n"
    }
   }
  },
  {
   "cell_type": "code",
   "execution_count": 84,
   "outputs": [
    {
     "name": "stdout",
     "output_type": "stream",
     "text": [
      "              precision    recall  f1-score   support\n",
      "\n",
      "           0       0.99      0.96      0.97      5162\n",
      "           1       0.94      0.97      0.96      6497\n",
      "           2       0.94      0.95      0.95      4775\n",
      "           3       0.96      0.94      0.95      2422\n",
      "           4       0.94      0.95      0.94      1235\n",
      "           5       0.95      0.95      0.95       583\n",
      "           6       0.95      0.91      0.93       309\n",
      "           7       0.97      0.92      0.94       156\n",
      "           8       1.00      0.90      0.95        92\n",
      "           9       1.00      0.93      0.97        45\n",
      "\n",
      "    accuracy                           0.96     21276\n",
      "   macro avg       0.96      0.94      0.95     21276\n",
      "weighted avg       0.96      0.96      0.96     21276\n",
      "\n"
     ]
    }
   ],
   "source": [
    "score_team_1=[i[0] for i in gbrpred]\n",
    "score_team_2=[i[1] for i in gbrpred]\n",
    "\n",
    "gbrreport = classification_report(Y.iloc[:,0],score_team_1, zero_division=False)\n",
    "print(gbrreport)"
   ],
   "metadata": {
    "collapsed": false,
    "pycharm": {
     "name": "#%%\n"
    }
   }
  },
  {
   "cell_type": "markdown",
   "source": [
    "# World Cup 2022 Predictions"
   ],
   "metadata": {
    "collapsed": false,
    "pycharm": {
     "name": "#%% md\n"
    }
   }
  },
  {
   "cell_type": "code",
   "execution_count": 144,
   "outputs": [],
   "source": [
    "Group_A= [\"Qatar\",\"Ecuador\",\"Senegal\",\"Netherlands\"]\n",
    "Group_B= [\"England\",\"Iran\",\"United States\",\"Wales\"]\n",
    "Group_C= [\"Argentina\",\"Saudi Arabia\",\"Mexico\",\"Poland\"]\n",
    "Group_D= [\"France\",\"Australia\",\"Denmark\",\"Tunisia\"]\n",
    "Group_E= [\"Spain\",\"Costa Rica\",\"Germany\",\"Japan\"]\n",
    "Group_F= [\"Belgium\",\"Canada\",\"Morocco\",\"Croatia\"]\n",
    "Group_G= [\"Brazil\",\"Serbia\",\"Switzerland\",\"Cameroon\"]\n",
    "Group_H= [\"Portugal\",\"Ghana\",\"Uruguay\",\"South Korea\"]\n",
    "Groups={\n",
    "    \"Group A\":Group_A,\n",
    "    \"Group B\":Group_B,\n",
    "    \"Group C\":Group_C,\n",
    "    \"Group D\":Group_D,\n",
    "    \"Group E\":Group_E,\n",
    "    \"Group F\":Group_F,\n",
    "    \"Group G\":Group_G,\n",
    "    \"Group H\":Group_H\n",
    "}"
   ],
   "metadata": {
    "collapsed": false,
    "pycharm": {
     "name": "#%%\n"
    }
   }
  },
  {
   "cell_type": "code",
   "execution_count": 172,
   "outputs": [],
   "source": [
    "#Initialize basic parameters\n",
    "\n",
    "year=2022\n",
    "stadium=\"Qatar\"\n",
    "stadium_num=le.transform([stadium])[0]\n",
    "host_num=stadium_num"
   ],
   "metadata": {
    "collapsed": false,
    "pycharm": {
     "name": "#%%\n"
    }
   }
  },
  {
   "cell_type": "code",
   "execution_count": 146,
   "outputs": [],
   "source": [
    "def select_winning_team(probability_array):\n",
    "    prob_lst=[round(probability_array[0][i],3) for i in range(2)]\n",
    "    if (prob_lst[0]>prob_lst[1]):\n",
    "        out=0\n",
    "    elif (prob_lst[0]<prob_lst[1]):\n",
    "        out=1\n",
    "    elif (prob_lst[0]==prob_lst[1]):\n",
    "        out=2\n",
    "    return out,prob_lst"
   ],
   "metadata": {
    "collapsed": false,
    "pycharm": {
     "name": "#%%\n"
    }
   }
  },
  {
   "cell_type": "code",
   "execution_count": 173,
   "outputs": [
    {
     "name": "stdout",
     "output_type": "stream",
     "text": [
      "Group A Matches\n",
      " Qatar vs Ecuador \n",
      "  Results of the Match [1 0]\n",
      "   Qatar wins 🎊🏆⚽🎖️\n",
      "\n",
      "Qatar vs Senegal \n",
      "  Results of the Match [1 1]\n",
      "   Match Draw ⚽⚽⚽\n",
      "\n",
      "Qatar vs Netherlands \n",
      "  Results of the Match [1 1]\n",
      "   Match Draw ⚽⚽⚽\n",
      "\n",
      " Ecuador vs Senegal \n",
      "  Results of the Match [1 0]\n",
      "   Ecuador wins 🎊🏆⚽🎖️\n",
      "\n",
      "Ecuador vs Netherlands \n",
      "  Results of the Match [1 1]\n",
      "   Match Draw ⚽⚽⚽\n",
      "\n",
      " Senegal vs Netherlands \n",
      "  Results of the Match [1 0]\n",
      "   Senegal wins 🎊🏆⚽🎖️\n",
      "\n",
      "Group B Matches\n",
      "England vs Iran \n",
      "  Results of the Match [2 2]\n",
      "   Match Draw ⚽⚽⚽\n",
      "\n",
      " England vs United States \n",
      "  Results of the Match [3 2]\n",
      "   England wins 🎊🏆⚽🎖️\n",
      "\n",
      " England vs Wales \n",
      "  Results of the Match [3 2]\n",
      "   England wins 🎊🏆⚽🎖️\n",
      "\n",
      " Iran vs United States \n",
      "  Results of the Match [3 0]\n",
      "   Iran wins 🎊🏆⚽🎖️\n",
      "\n",
      " Iran vs Wales \n",
      "  Results of the Match [1 0]\n",
      "   Iran wins 🎊🏆⚽🎖️\n",
      "\n",
      " United States vs Wales \n",
      "  Results of the Match [3 1]\n",
      "   United States wins 🎊🏆⚽🎖️\n",
      "\n",
      "Group C Matches\n",
      " Argentina vs Saudi Arabia \n",
      "  Results of the Match [1 0]\n",
      "   Argentina wins 🎊🏆⚽🎖️\n",
      "\n",
      "Argentina vs Mexico \n",
      "  Results of the Match [0 0]\n",
      "   Match Draw ⚽⚽⚽\n",
      "\n",
      "Argentina vs Poland \n",
      "  Results of the Match [0 0]\n",
      "   Match Draw ⚽⚽⚽\n",
      "\n",
      " Saudi Arabia vs Mexico \n",
      "  Results of the Match [1 0]\n",
      "   Saudi Arabia wins 🎊🏆⚽🎖️\n",
      "\n",
      " Saudi Arabia vs Poland \n",
      "  Results of the Match [1 2]\n",
      "   Poland wins 🎊🏆⚽🎖️\n",
      "\n",
      " Mexico vs Poland \n",
      "  Results of the Match [1 0]\n",
      "   Mexico wins 🎊🏆⚽🎖️\n",
      "\n",
      "Group D Matches\n",
      " France vs Australia \n",
      "  Results of the Match [0 1]\n",
      "   Australia wins 🎊🏆⚽🎖️\n",
      "\n",
      "France vs Denmark \n",
      "  Results of the Match [1 1]\n",
      "   Match Draw ⚽⚽⚽\n",
      "\n",
      " France vs Tunisia \n",
      "  Results of the Match [3 1]\n",
      "   France wins 🎊🏆⚽🎖️\n",
      "\n",
      "Australia vs Denmark \n",
      "  Results of the Match [0 0]\n",
      "   Match Draw ⚽⚽⚽\n",
      "\n",
      "Australia vs Tunisia \n",
      "  Results of the Match [0 0]\n",
      "   Match Draw ⚽⚽⚽\n",
      "\n",
      " Denmark vs Tunisia \n",
      "  Results of the Match [2 0]\n",
      "   Denmark wins 🎊🏆⚽🎖️\n",
      "\n",
      "Group E Matches\n",
      " Spain vs Costa Rica \n",
      "  Results of the Match [1 0]\n",
      "   Spain wins 🎊🏆⚽🎖️\n",
      "\n",
      " Spain vs Germany \n",
      "  Results of the Match [1 0]\n",
      "   Spain wins 🎊🏆⚽🎖️\n",
      "\n",
      " Spain vs Japan \n",
      "  Results of the Match [2 0]\n",
      "   Spain wins 🎊🏆⚽🎖️\n",
      "\n",
      "Costa Rica vs Germany \n",
      "  Results of the Match [0 0]\n",
      "   Match Draw ⚽⚽⚽\n",
      "\n",
      " Costa Rica vs Japan \n",
      "  Results of the Match [2 0]\n",
      "   Costa Rica wins 🎊🏆⚽🎖️\n",
      "\n",
      " Germany vs Japan \n",
      "  Results of the Match [1 2]\n",
      "   Japan wins 🎊🏆⚽🎖️\n",
      "\n",
      "Group F Matches\n",
      "Belgium vs Canada \n",
      "  Results of the Match [0 0]\n",
      "   Match Draw ⚽⚽⚽\n",
      "\n",
      " Belgium vs Morocco \n",
      "  Results of the Match [2 0]\n",
      "   Belgium wins 🎊🏆⚽🎖️\n",
      "\n",
      " Belgium vs Croatia \n",
      "  Results of the Match [1 0]\n",
      "   Belgium wins 🎊🏆⚽🎖️\n",
      "\n",
      " Canada vs Morocco \n",
      "  Results of the Match [0 1]\n",
      "   Morocco wins 🎊🏆⚽🎖️\n",
      "\n",
      " Canada vs Croatia \n",
      "  Results of the Match [2 0]\n",
      "   Canada wins 🎊🏆⚽🎖️\n",
      "\n",
      " Morocco vs Croatia \n",
      "  Results of the Match [1 0]\n",
      "   Morocco wins 🎊🏆⚽🎖️\n",
      "\n",
      "Group G Matches\n",
      " Brazil vs Serbia \n",
      "  Results of the Match [2 0]\n",
      "   Brazil wins 🎊🏆⚽🎖️\n",
      "\n",
      " Brazil vs Switzerland \n",
      "  Results of the Match [2 0]\n",
      "   Brazil wins 🎊🏆⚽🎖️\n",
      "\n",
      " Brazil vs Cameroon \n",
      "  Results of the Match [2 0]\n",
      "   Brazil wins 🎊🏆⚽🎖️\n",
      "\n",
      "Serbia vs Switzerland \n",
      "  Results of the Match [0 0]\n",
      "   Match Draw ⚽⚽⚽\n",
      "\n",
      "Serbia vs Cameroon \n",
      "  Results of the Match [0 0]\n",
      "   Match Draw ⚽⚽⚽\n",
      "\n",
      "Switzerland vs Cameroon \n",
      "  Results of the Match [0 0]\n",
      "   Match Draw ⚽⚽⚽\n",
      "\n",
      "Group H Matches\n",
      "Portugal vs Ghana \n",
      "  Results of the Match [1 1]\n",
      "   Match Draw ⚽⚽⚽\n",
      "\n",
      " Portugal vs Uruguay \n",
      "  Results of the Match [3 0]\n",
      "   Portugal wins 🎊🏆⚽🎖️\n",
      "\n",
      " Portugal vs South Korea \n",
      "  Results of the Match [1 0]\n",
      "   Portugal wins 🎊🏆⚽🎖️\n",
      "\n",
      " Ghana vs Uruguay \n",
      "  Results of the Match [3 2]\n",
      "   Ghana wins 🎊🏆⚽🎖️\n",
      "\n",
      " Ghana vs South Korea \n",
      "  Results of the Match [2 1]\n",
      "   Ghana wins 🎊🏆⚽🎖️\n",
      "\n",
      " Uruguay vs South Korea \n",
      "  Results of the Match [3 1]\n",
      "   Uruguay wins 🎊🏆⚽🎖️\n",
      "\n"
     ]
    }
   ],
   "source": [
    "##Group stage Matches\n",
    "\n",
    "Group_standings={}\n",
    "for grp_name in list(Groups.keys()):\n",
    "    print(f\"{grp_name} Matches\")\n",
    "    probable_countries=Groups[grp_name]\n",
    "    team_wins_dct={}\n",
    "    goal_scored_dct={}\n",
    "    goal_against_dct={}\n",
    "    win_dct={}\n",
    "    draw_dct={}\n",
    "    lost_dct={}\n",
    "    for i in range(len(probable_countries)):\n",
    "        j=i+1\n",
    "        team_1=probable_countries[i]\n",
    "        team_1_num=le.transform([team_1])[0]\n",
    "        team_wins=0\n",
    "        while j<len((probable_countries)):\n",
    "            team_2=probable_countries[j]\n",
    "            team_2_num=le.transform([team_2])[0]\n",
    "            team_lst=[team_1,team_2]\n",
    "            Input_vector=np.array([[year,stadium_num,team_1_num,team_2_num]])\n",
    "            res=rfmodel.predict(Input_vector)\n",
    "            res = np.absolute(res)\n",
    "            res = np.round(res)\n",
    "            res = np.int_(res)\n",
    "            win,prob_lst=select_winning_team(res)\n",
    "            goal_scored_dct[team_1] = goal_scored_dct.get(team_1,0)+prob_lst[0]\n",
    "            goal_scored_dct[team_2] = goal_scored_dct.get(team_2,0)+prob_lst[1]\n",
    "\n",
    "            goal_against_dct[team_1] = goal_against_dct.get(team_1,0)+prob_lst[1]\n",
    "            goal_against_dct[team_2] = goal_against_dct.get(team_2,0)+prob_lst[0]\n",
    "\n",
    "            try:\n",
    "                print(f\" {team_1} vs {team_2} \\n  Results of the Match {res[0]}\\n   {team_lst[win]} wins 🎊🏆⚽🎖️\\n\")\n",
    "                if (win)==0:\n",
    "                    team_wins_dct[team_1] = team_wins_dct.get(team_1,0)+2\n",
    "                    team_wins_dct[team_2] = team_wins_dct.get(team_2,0)\n",
    "\n",
    "                    win_dct[team_1] = win_dct.get(team_1,0)+1\n",
    "                    win_dct[team_2] = win_dct.get(team_2,0)\n",
    "                    lost_dct[team_2] = lost_dct.get(team_2,0)+1\n",
    "                    lost_dct[team_1] = lost_dct.get(team_1,0)\n",
    "                    draw_dct[team_2] = draw_dct.get(team_2,0)\n",
    "                    draw_dct[team_1] = draw_dct.get(team_1,0)\n",
    "\n",
    "                elif (win)==1:\n",
    "                    team_wins_dct[team_2] = team_wins_dct.get(team_2,0)+2\n",
    "                    team_wins_dct[team_1] = team_wins_dct.get(team_1,0)\n",
    "\n",
    "                    win_dct[team_2] = win_dct.get(team_2,0)+1\n",
    "                    win_dct[team_1] = win_dct.get(team_1,0)\n",
    "                    lost_dct[team_1] = lost_dct.get(team_1,0)+1\n",
    "                    lost_dct[team_2] = lost_dct.get(team_2,0)\n",
    "                    draw_dct[team_1] = draw_dct.get(team_1,0)\n",
    "                    draw_dct[team_2] = draw_dct.get(team_2,0)\n",
    "\n",
    "            except IndexError:\n",
    "                print(f\"{team_1} vs {team_2} \\n  Results of the Match {res[0]}\\n   Match Draw ⚽⚽⚽\\n\")\n",
    "                team_wins_dct[team_1] = team_wins_dct.get(team_1,0)+1\n",
    "                team_wins_dct[team_2] = team_wins_dct.get(team_2,0)+1\n",
    "\n",
    "                draw_dct[team_1] = draw_dct.get(team_1,0)+1\n",
    "                draw_dct[team_2] = draw_dct.get(team_2,0)+1\n",
    "\n",
    "                win_dct[team_1] = win_dct.get(team_1,0)\n",
    "                lost_dct[team_1] = lost_dct.get(team_1,0)\n",
    "\n",
    "                win_dct[team_2] = win_dct.get(team_2,0)\n",
    "                lost_dct[team_2] = lost_dct.get(team_2,0)\n",
    "\n",
    "            j=j+1\n",
    "    group_results=[win_dct,draw_dct,lost_dct,team_wins_dct,goal_scored_dct,goal_against_dct]\n",
    "    Group_standings[grp_name]=group_results"
   ],
   "metadata": {
    "collapsed": false,
    "pycharm": {
     "name": "#%%\n"
    }
   }
  },
  {
   "cell_type": "code",
   "execution_count": 174,
   "outputs": [
    {
     "name": "stdout",
     "output_type": "stream",
     "text": [
      "\n",
      "\n",
      "Group A Final Rankings\n",
      "|    | Team        |   Wins |   Draw |   Lost |   Goal Scored |   Goal Against |   Goal Differance |   Points |\n",
      "|---:|:------------|-------:|-------:|-------:|--------------:|---------------:|------------------:|---------:|\n",
      "|  1 | Qatar       |      1 |      2 |      0 |             3 |              2 |                 1 |        4 |\n",
      "|  2 | Ecuador     |      1 |      1 |      1 |             2 |              2 |                 0 |        3 |\n",
      "|  3 | Senegal     |      1 |      1 |      1 |             2 |              2 |                 0 |        3 |\n",
      "|  4 | Netherlands |      0 |      2 |      1 |             2 |              3 |                -1 |        2 |\n",
      "\n",
      "\n",
      "Group B Final Rankings\n",
      "|    | Team          |   Wins |   Draw |   Lost |   Goal Scored |   Goal Against |   Goal Differance |   Points |\n",
      "|---:|:--------------|-------:|-------:|-------:|--------------:|---------------:|------------------:|---------:|\n",
      "|  1 | England       |      2 |      1 |      0 |             8 |              6 |                 2 |        5 |\n",
      "|  2 | Iran          |      2 |      1 |      0 |             6 |              2 |                 4 |        5 |\n",
      "|  3 | United States |      1 |      0 |      2 |             5 |              7 |                -2 |        2 |\n",
      "|  4 | Wales         |      0 |      0 |      3 |             3 |              7 |                -4 |        0 |\n",
      "\n",
      "\n",
      "Group C Final Rankings\n",
      "|    | Team         |   Wins |   Draw |   Lost |   Goal Scored |   Goal Against |   Goal Differance |   Points |\n",
      "|---:|:-------------|-------:|-------:|-------:|--------------:|---------------:|------------------:|---------:|\n",
      "|  1 | Argentina    |      1 |      2 |      0 |             1 |              0 |                 1 |        4 |\n",
      "|  2 | Mexico       |      1 |      1 |      1 |             1 |              1 |                 0 |        3 |\n",
      "|  3 | Poland       |      1 |      1 |      1 |             2 |              2 |                 0 |        3 |\n",
      "|  4 | Saudi Arabia |      1 |      0 |      2 |             2 |              3 |                -1 |        2 |\n",
      "\n",
      "\n",
      "Group D Final Rankings\n",
      "|    | Team      |   Wins |   Draw |   Lost |   Goal Scored |   Goal Against |   Goal Differance |   Points |\n",
      "|---:|:----------|-------:|-------:|-------:|--------------:|---------------:|------------------:|---------:|\n",
      "|  1 | Australia |      1 |      2 |      0 |             1 |              0 |                 1 |        4 |\n",
      "|  2 | Denmark   |      1 |      2 |      0 |             3 |              1 |                 2 |        4 |\n",
      "|  3 | France    |      1 |      1 |      1 |             4 |              3 |                 1 |        3 |\n",
      "|  4 | Tunisia   |      0 |      1 |      2 |             1 |              5 |                -4 |        1 |\n",
      "\n",
      "\n",
      "Group E Final Rankings\n",
      "|    | Team       |   Wins |   Draw |   Lost |   Goal Scored |   Goal Against |   Goal Differance |   Points |\n",
      "|---:|:-----------|-------:|-------:|-------:|--------------:|---------------:|------------------:|---------:|\n",
      "|  1 | Spain      |      3 |      0 |      0 |             4 |              0 |                 4 |        6 |\n",
      "|  2 | Costa Rica |      1 |      1 |      1 |             2 |              1 |                 1 |        3 |\n",
      "|  3 | Japan      |      1 |      0 |      2 |             2 |              5 |                -3 |        2 |\n",
      "|  4 | Germany    |      0 |      1 |      2 |             1 |              3 |                -2 |        1 |\n",
      "\n",
      "\n",
      "Group F Final Rankings\n",
      "|    | Team    |   Wins |   Draw |   Lost |   Goal Scored |   Goal Against |   Goal Differance |   Points |\n",
      "|---:|:--------|-------:|-------:|-------:|--------------:|---------------:|------------------:|---------:|\n",
      "|  1 | Belgium |      2 |      1 |      0 |             3 |              0 |                 3 |        5 |\n",
      "|  2 | Morocco |      2 |      0 |      1 |             2 |              2 |                 0 |        4 |\n",
      "|  3 | Canada  |      1 |      1 |      1 |             2 |              1 |                 1 |        3 |\n",
      "|  4 | Croatia |      0 |      0 |      3 |             0 |              4 |                -4 |        0 |\n",
      "\n",
      "\n",
      "Group G Final Rankings\n",
      "|    | Team        |   Wins |   Draw |   Lost |   Goal Scored |   Goal Against |   Goal Differance |   Points |\n",
      "|---:|:------------|-------:|-------:|-------:|--------------:|---------------:|------------------:|---------:|\n",
      "|  1 | Brazil      |      3 |      0 |      0 |             6 |              0 |                 6 |        6 |\n",
      "|  2 | Cameroon    |      0 |      2 |      1 |             0 |              2 |                -2 |        2 |\n",
      "|  3 | Serbia      |      0 |      2 |      1 |             0 |              2 |                -2 |        2 |\n",
      "|  4 | Switzerland |      0 |      2 |      1 |             0 |              2 |                -2 |        2 |\n",
      "\n",
      "\n",
      "Group H Final Rankings\n",
      "|    | Team        |   Wins |   Draw |   Lost |   Goal Scored |   Goal Against |   Goal Differance |   Points |\n",
      "|---:|:------------|-------:|-------:|-------:|--------------:|---------------:|------------------:|---------:|\n",
      "|  1 | Ghana       |      2 |      1 |      0 |             6 |              4 |                 2 |        5 |\n",
      "|  2 | Portugal    |      2 |      1 |      0 |             5 |              1 |                 4 |        5 |\n",
      "|  3 | Uruguay     |      1 |      0 |      2 |             5 |              7 |                -2 |        2 |\n",
      "|  4 | South Korea |      0 |      0 |      3 |             2 |              6 |                -4 |        0 |\n"
     ]
    }
   ],
   "source": [
    "#Display group stage results\n",
    "\n",
    "for grp_name in list(Group_standings.keys()):\n",
    "\n",
    "    team_wins_dct= dict(sorted(Group_standings[grp_name][3].items()))\n",
    "    goal_scored_dct=dict(sorted(Group_standings[grp_name][4].items()))\n",
    "    goal_against_dct=dict(sorted(Group_standings[grp_name][5].items()))\n",
    "\n",
    "    win_dct=dict(sorted(Group_standings[grp_name][0].items()))\n",
    "    draw_dct=dict(sorted(Group_standings[grp_name][1].items()))\n",
    "    lost_dct=dict(sorted(Group_standings[grp_name][2].items()))\n",
    "\n",
    "    lst_teams=list(team_wins_dct.keys())\n",
    "\n",
    "    win_lst=list(win_dct.values())\n",
    "    draw_lst=list(draw_dct.values())\n",
    "    lost_lst=list(lost_dct.values())\n",
    "\n",
    "    lst_win_count=list(team_wins_dct.values())\n",
    "    goal_scored=list(goal_scored_dct.values())\n",
    "    goal_against=list(goal_against_dct.values())\n",
    "    goal_differance=[goal_scored[i]-goal_against[i] for i in range (len(goal_scored))]\n",
    "    ranking_table=pd.DataFrame(list(zip(lst_teams,win_lst,draw_lst,lost_lst,goal_scored,goal_against,goal_differance,lst_win_count)),columns=[\"Team\",\"Wins\",\"Draw\",\"Lost\",\"Goal Scored\",\"Goal Against\",\"Goal Differance\",\"Points\"])\n",
    "    ranking_table=ranking_table.sort_values(\"Points\",ascending=False).reset_index(drop=True)\n",
    "    ranking_table.index = ranking_table.index + 1\n",
    "    print(f\"\\n\\n{grp_name} Final Rankings\")\n",
    "    print(ranking_table.to_markdown())"
   ],
   "metadata": {
    "collapsed": false,
    "pycharm": {
     "name": "#%%\n"
    }
   }
  },
  {
   "cell_type": "code",
   "execution_count": 227,
   "outputs": [],
   "source": [
    "stadium_num = 0"
   ],
   "metadata": {
    "collapsed": false,
    "pycharm": {
     "name": "#%%\n"
    }
   }
  },
  {
   "cell_type": "code",
   "execution_count": 229,
   "outputs": [
    {
     "name": "stdout",
     "output_type": "stream",
     "text": [
      "Round of 16\n",
      "\n",
      "Qatar vs Iran \n",
      "  Match Draw ⚽⚽\n",
      "   Qatar wins at Penaly Shoot-Out 🥅🎯\n",
      "    Qatar into the Quater-Finals ⏩⏩ \n",
      "\n",
      "Argentina vs Denmark \n",
      "  Match Draw ⚽⚽\n",
      "   Argentina wins at Penaly Shoot-Out 🥅🎯\n",
      "    Argentina into the Quater-Finals ⏩⏩ \n",
      "\n",
      "Spain vs Morocco \n",
      "  Spain wins 🏆🏆\n",
      "    Spain into the Quater-Finals ⏩⏩ \n",
      "\n",
      "Brazil vs Ghana \n",
      "  Brazil wins 🏆🏆\n",
      "    Brazil into the Quater-Finals ⏩⏩ \n",
      "\n",
      "Ecuador vs England \n",
      "  England wins 🏆🏆\n",
      "    England into the Quater-Finals ⏩⏩ \n",
      "\n",
      "Mexico vs Australia \n",
      "  Australia wins 🏆🏆\n",
      "    Australia into the Quater-Finals ⏩⏩ \n",
      "\n",
      "Costa Rica vs Belgium \n",
      "  Costa Rica wins 🏆🏆\n",
      "    Costa Rica into the Quater-Finals ⏩⏩ \n",
      "\n",
      "Serbia vs Portugal \n",
      "  Match Draw ⚽⚽\n",
      "   Portugal wins at Penaly Shoot-Out 🥅🎯\n",
      "    Portugal into the Quater-Finals ⏩⏩ \n",
      "\n"
     ]
    }
   ],
   "source": [
    "##Round of 16 Section_1\n",
    "import random\n",
    "qualified_teams_1=[]\n",
    "standings=list(Group_standings.keys())\n",
    "i=0\n",
    "print(f\"Round of 16\\n\")\n",
    "while i < (len(standings)):\n",
    "    A_team= sorted(Group_standings[standings[i]][3].items(), key=lambda x: x[1], reverse=True)\n",
    "    team_1=A_team[0][0]\n",
    "    B_team= sorted(Group_standings[standings[i+1]][3].items(), key=lambda x: x[1], reverse=True)\n",
    "    team_2=B_team[1][0]\n",
    "\n",
    "    team_1_num=le.transform([team_1])[0]\n",
    "    team_2_num=le.transform([team_2])[0]\n",
    "    team_lst=[team_1,team_2]\n",
    "\n",
    "    Input_vector=np.array([[year,host_num,team_1_num,team_2_num]])\n",
    "    res=rfmodel.predict(Input_vector)\n",
    "    res = np.absolute(res)\n",
    "    res = np.round(res)\n",
    "    res = np.int_(res)\n",
    "    win,_=select_winning_team(res)\n",
    "\n",
    "    try:\n",
    "        print(f\"{team_1} vs {team_2} \\n  {team_lst[win]} wins 🏆🏆\")\n",
    "        print(f\"    {team_lst[win]} into the Quater-Finals ⏩⏩ \\n\")\n",
    "        qualified_teams_1.append(team_lst[win])\n",
    "    except IndexError:\n",
    "        print(f\"{team_1} vs {team_2} \\n  Match Draw ⚽⚽\")\n",
    "        winning_team=random.choice(team_lst)\n",
    "        print(f\"   {winning_team} wins at Penaly Shoot-Out 🥅🎯\")\n",
    "        print(f\"    {winning_team} into the Quater-Finals ⏩⏩ \\n\")\n",
    "        qualified_teams_1.append(winning_team)\n",
    "    i=i+2\n",
    "\n",
    "##Round of 16 Section_2\n",
    "qualified_teams_2=[]\n",
    "standings=list(Group_standings.keys())\n",
    "i=0\n",
    "while i < (len(standings)):\n",
    "    A_team= sorted(Group_standings[standings[i]][3].items(), key=lambda x: x[1], reverse=True)\n",
    "    team_1=A_team[1][0]\n",
    "    B_team= sorted(Group_standings[standings[i+1]][3].items(), key=lambda x: x[1], reverse=True)\n",
    "    team_2=B_team[0][0]\n",
    "\n",
    "    team_1_num=le.transform([team_1])[0]\n",
    "    team_2_num=le.transform([team_2])[0]\n",
    "    team_lst=[team_1,team_2]\n",
    "\n",
    "    Input_vector=np.array([[year,host_num,team_1_num,team_2_num]])\n",
    "    res=dtmodel.predict(Input_vector)\n",
    "    res = np.absolute(res)\n",
    "    res = np.round(res)\n",
    "    res = np.int_(res)\n",
    "    win,_=select_winning_team(res)\n",
    "\n",
    "    try:\n",
    "        print(f\"{team_1} vs {team_2} \\n  {team_lst[win]} wins 🏆🏆\")\n",
    "        print(f\"    {team_lst[win]} into the Quater-Finals ⏩⏩ \\n\")\n",
    "        qualified_teams_2.append(team_lst[win])\n",
    "\n",
    "    except IndexError:\n",
    "        print(f\"{team_1} vs {team_2} \\n  Match Draw ⚽⚽\")\n",
    "        winning_team=random.choice(team_lst)\n",
    "        print(f\"   {winning_team} wins at Penaly Shoot-Out 🥅🎯\")\n",
    "        print(f\"    {winning_team} into the Quater-Finals ⏩⏩ \\n\")\n",
    "        qualified_teams_2.append(winning_team)\n",
    "    i=i+2"
   ],
   "metadata": {
    "collapsed": false,
    "pycharm": {
     "name": "#%%\n"
    }
   }
  },
  {
   "cell_type": "code",
   "execution_count": 230,
   "outputs": [
    {
     "name": "stdout",
     "output_type": "stream",
     "text": [
      "Teams selected to the Quater Finals - ['Qatar', 'Argentina', 'Spain', 'Brazil', 'England', 'Australia', 'Costa Rica', 'Portugal']\n"
     ]
    }
   ],
   "source": [
    "print(f\"Teams selected to the Quater Finals - {qualified_teams_1+qualified_teams_2}\")"
   ],
   "metadata": {
    "collapsed": false,
    "pycharm": {
     "name": "#%%\n"
    }
   }
  },
  {
   "cell_type": "code",
   "execution_count": 246,
   "outputs": [
    {
     "name": "stdout",
     "output_type": "stream",
     "text": [
      "Quater Final Matches\n",
      "\n",
      "Qatar vs Argentina \n",
      "  Match Draw ⚽⚽\n",
      "   Argentina wins at Penaly Shoot-Out 🥅🎯\n",
      "    Argentina into the Semi-Finals ⏩⏩ \n",
      "\n",
      "Spain vs Brazil \n",
      "  Match Draw ⚽⚽\n",
      "   Spain wins at Penaly Shoot-Out 🥅🎯\n",
      "    Spain into the Semi-Finals ⏩⏩ \n",
      "\n",
      "England vs Australia \n",
      "  England wins 🏆🏆\n",
      "    England into the Semi-Finals ⏩⏩ \n",
      "\n",
      "Costa Rica vs Portugal \n",
      "  Match Draw ⚽⚽\n",
      "   Portugal wins at Penaly Shoot-Out 🥅🎯\n",
      "    Portugal into the Semi-Finals ⏩⏩ \n",
      "\n"
     ]
    }
   ],
   "source": [
    "#Quarter Finals\n",
    "\n",
    "Semifinal_teams=[]\n",
    "i=0\n",
    "print(f\"Quater Final Matches\\n\")\n",
    "while i < (len(qualified_teams_1))-1:\n",
    "    team_1= qualified_teams_1[i]\n",
    "    team_2= qualified_teams_1[i+1]\n",
    "\n",
    "    team_1_num=le.transform([team_1])[0]\n",
    "    team_2_num=le.transform([team_2])[0]\n",
    "    team_lst=[team_1,team_2]\n",
    "\n",
    "    Input_vector=np.array([[year,host_num,team_1_num,team_2_num]])\n",
    "    res=xgbmodel.predict(Input_vector)\n",
    "    res = np.absolute(res)\n",
    "    res = np.round(res)\n",
    "    res = np.int_(res)\n",
    "    win,_=select_winning_team(res)\n",
    "\n",
    "    try:\n",
    "        print(f\"{team_1} vs {team_2} \\n  {team_lst[win]} wins 🏆🏆\")\n",
    "        print(f\"    {team_lst[win]} into the Semi-Finals ⏩⏩ \\n\")\n",
    "        Semifinal_teams.append(team_lst[win])\n",
    "\n",
    "    except IndexError:\n",
    "        print(f\"{team_1} vs {team_2} \\n  Match Draw ⚽⚽\")\n",
    "        winning_team=random.choice(team_lst)\n",
    "        print(f\"   {winning_team} wins at Penaly Shoot-Out 🥅🎯\")\n",
    "        print(f\"    {winning_team} into the Semi-Finals ⏩⏩ \\n\")\n",
    "        Semifinal_teams.append(winning_team)\n",
    "    i=i+2\n",
    "\n",
    "i=0\n",
    "while i < (len(qualified_teams_2))-1:\n",
    "    team_1= qualified_teams_2[i]\n",
    "    team_2= qualified_teams_2[i+1]\n",
    "    team_1_num=le.transform([team_1])[0]\n",
    "    team_2_num=le.transform([team_2])[0]\n",
    "    team_lst=[team_1,team_2]\n",
    "\n",
    "    Input_vector=np.array([[year,host_num,team_1_num,team_2_num]])\n",
    "    res=dtmodel.predict(Input_vector)\n",
    "    win,_=select_winning_team(res)\n",
    "\n",
    "    try:\n",
    "        print(f\"{team_1} vs {team_2} \\n  {team_lst[win]} wins 🏆🏆\")\n",
    "        print(f\"    {team_lst[win]} into the Semi-Finals ⏩⏩ \\n\")\n",
    "        Semifinal_teams.append(team_lst[win])\n",
    "\n",
    "    except IndexError:\n",
    "        print(f\"{team_1} vs {team_2} \\n  Match Draw ⚽⚽\")\n",
    "        winning_team=random.choice(team_lst)\n",
    "        print(f\"   {winning_team} wins at Penaly Shoot-Out 🥅🎯\")\n",
    "        print(f\"    {winning_team} into the Semi-Finals ⏩⏩ \\n\")\n",
    "        Semifinal_teams.append(winning_team)\n",
    "    i=i+2"
   ],
   "metadata": {
    "collapsed": false,
    "pycharm": {
     "name": "#%%\n"
    }
   }
  },
  {
   "cell_type": "code",
   "execution_count": 247,
   "outputs": [
    {
     "name": "stdout",
     "output_type": "stream",
     "text": [
      "Teams selected to the Semi-Finals - ['Argentina', 'Spain', 'England', 'Portugal']\n"
     ]
    }
   ],
   "source": [
    "print(f\"Teams selected to the Semi-Finals - {Semifinal_teams}\")"
   ],
   "metadata": {
    "collapsed": false,
    "pycharm": {
     "name": "#%%\n"
    }
   }
  },
  {
   "cell_type": "code",
   "execution_count": 248,
   "outputs": [
    {
     "name": "stdout",
     "output_type": "stream",
     "text": [
      "Semi Final Matches\n",
      "\n",
      "Argentina vs Spain \n",
      "  Spain wins 🏆🏆\n",
      "    Spain into the FIFA-Finals ⏩⏩ \n",
      "\n",
      "England vs Portugal \n",
      "  England wins 🏆🏆\n",
      "    England into the FIFA-Finals ⏩⏩ \n",
      "\n"
     ]
    }
   ],
   "source": [
    "#Semi Finals\n",
    "\n",
    "final_teams=[]\n",
    "third_place_match_teams=[]\n",
    "i=0\n",
    "print(f\"Semi Final Matches\\n\")\n",
    "while i < (len(Semifinal_teams))-1:\n",
    "    team_1= Semifinal_teams[i]\n",
    "    team_2= Semifinal_teams[i+1]\n",
    "\n",
    "    team_1_num=le.transform([team_1])[0]\n",
    "    team_2_num=le.transform([team_2])[0]\n",
    "    team_lst=[team_1,team_2]\n",
    "\n",
    "    Input_vector=np.array([[year,host_num,team_1_num,team_2_num]])\n",
    "    res=xgbmodel.predict(Input_vector)\n",
    "    res = np.absolute(res)\n",
    "    res = np.round(res)\n",
    "    res = np.int_(res)\n",
    "    win,_=select_winning_team(res)\n",
    "\n",
    "    try:\n",
    "        print(f\"{team_1} vs {team_2} \\n  {team_lst[win]} wins 🏆🏆\")\n",
    "        print(f\"    {team_lst[win]} into the FIFA-Finals ⏩⏩ \\n\")\n",
    "        final_teams.append(team_lst[win])\n",
    "        third_place_match_teams.append(team_lst[(win+1)%2])\n",
    "\n",
    "\n",
    "    except IndexError:\n",
    "        print(f\"{team_1} vs {team_2} \\n  Match Draw ⚽⚽\")\n",
    "        winning_team=random.choice(team_lst)\n",
    "        print(f\"   {winning_team} wins at Penaly Shoot-Out 🥅🎯\")\n",
    "        print(f\"    {winning_team} into the FIFA-Finals ⏩⏩ \\n\")\n",
    "        final_teams.append(winning_team)\n",
    "        team_lst.remove(winning_team)\n",
    "        third_place_match_teams.append(team_lst[0])\n",
    "    i=i+2"
   ],
   "metadata": {
    "collapsed": false,
    "pycharm": {
     "name": "#%%\n"
    }
   }
  },
  {
   "cell_type": "code",
   "execution_count": 249,
   "outputs": [
    {
     "name": "stdout",
     "output_type": "stream",
     "text": [
      "Teams selected to the Finals - ['Spain', 'England']\n",
      "Teams selected to the Third Place match - ['Argentina', 'Portugal']\n"
     ]
    }
   ],
   "source": [
    "print(f\"Teams selected to the Finals - {final_teams}\")\n",
    "print(f\"Teams selected to the Third Place match - {third_place_match_teams}\")"
   ],
   "metadata": {
    "collapsed": false,
    "pycharm": {
     "name": "#%%\n"
    }
   }
  },
  {
   "cell_type": "code",
   "execution_count": 250,
   "outputs": [
    {
     "name": "stdout",
     "output_type": "stream",
     "text": [
      "FiFA FINAl\n",
      "\n",
      "England vs Spain \n",
      "  England are the Winners 🎉🏆🎉\n",
      "\n",
      "\n",
      "Third Place match\n",
      "\n",
      "Portugal vs Argentina \n",
      "  Portugal Wins the 3rd Place 🎉🏆🎉\n",
      "\n",
      "\n",
      "\n",
      "Winner is England 🥇🥇🥇\n",
      "Runner-up is Spain 🥈🥈🥈\n",
      "3rd Place is Portugal 🥉🥉🥉\n"
     ]
    }
   ],
   "source": [
    "#Finals and Third Place match\n",
    "\n",
    "print(f\"FiFA FINAl\\n\")\n",
    "team_1= final_teams[1]\n",
    "team_2= final_teams[0]\n",
    "\n",
    "team_1_num=le.transform([team_1])[0]\n",
    "team_2_num=le.transform([team_2])[0]\n",
    "team_lst=[team_1,team_2]\n",
    "\n",
    "Input_vector=np.array([[year,host_num,team_1_num,team_2_num]])\n",
    "res=rfmodel.predict(Input_vector)\n",
    "win,_=select_winning_team(res)\n",
    "\n",
    "try:\n",
    "    print(f\"{team_1} vs {team_2} \\n  {team_lst[win]} are the Winners 🎉🏆🎉\\n\\n\")\n",
    "    winner=team_lst[win]\n",
    "    place_2=team_lst[(win+1)%2]\n",
    "\n",
    "except IndexError:\n",
    "    print(f\"{team_1} vs {team_2} \\n  Match Draw ⚽⚽\")\n",
    "    winning_team=random.choice(team_lst)\n",
    "    print(f\"   {winning_team} wins at Penaly Shoot-Out 🥅🎯\")\n",
    "    print(f\"    {winning_team} are the Winners 🎉🏆🎉\\n\\n\")\n",
    "    winner=winning_team\n",
    "\n",
    "    team_lst.remove(winning_team)\n",
    "    place_2=team_lst[0]\n",
    "\n",
    "print(f\"Third Place match\\n\")\n",
    "team_1= third_place_match_teams[1]\n",
    "team_2= third_place_match_teams[0]\n",
    "\n",
    "team_1_num=le.transform([team_1])[0]\n",
    "team_2_num=le.transform([team_2])[0]\n",
    "team_lst=[team_1,team_2]\n",
    "\n",
    "Input_vector=np.array([[year,host_num,team_1_num,team_2_num]])\n",
    "res=xgbmodel.predict(Input_vector)\n",
    "res = np.absolute(res)\n",
    "res = np.round(res)\n",
    "res = np.int_(res)\n",
    "win,_=select_winning_team(res)\n",
    "\n",
    "try:\n",
    "    print(f\"{team_1} vs {team_2} \\n  {team_lst[win]} Wins the 3rd Place 🎉🏆🎉\\n\")\n",
    "    place_3=team_lst[win]\n",
    "\n",
    "except IndexError:\n",
    "    print(f\"{team_1} vs {team_2} \\n  Match Draw ⚽⚽\")\n",
    "    winning_team=random.choice(team_lst)\n",
    "    print(f\"   {winning_team} wins at Penaly Shoot-Out 🥅🎯\")\n",
    "    print(f\"    {winning_team} Wins the 3rd Place 🎉🏆🎉\\n\")\n",
    "    place_3=winning_team\n",
    "\n",
    "\n",
    "\n",
    "print(f\"\\n\\nWinner is {winner} 🥇🥇🥇\")\n",
    "print(f\"Runner-up is {place_2} 🥈🥈🥈\")\n",
    "print(f\"3rd Place is {place_3} 🥉🥉🥉\")"
   ],
   "metadata": {
    "collapsed": false,
    "pycharm": {
     "name": "#%%\n"
    }
   }
  }
 ],
 "metadata": {
  "kernelspec": {
   "display_name": "Python 3",
   "language": "python",
   "name": "python3"
  },
  "language_info": {
   "codemirror_mode": {
    "name": "ipython",
    "version": 2
   },
   "file_extension": ".py",
   "mimetype": "text/x-python",
   "name": "python",
   "nbconvert_exporter": "python",
   "pygments_lexer": "ipython2",
   "version": "2.7.6"
  }
 },
 "nbformat": 4,
 "nbformat_minor": 0
}